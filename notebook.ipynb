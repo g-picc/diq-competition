{
  "nbformat": 4,
  "nbformat_minor": 0,
  "metadata": {
    "colab": {
      "provenance": [],
      "toc_visible": true
    },
    "kernelspec": {
      "name": "python3",
      "display_name": "Python 3"
    },
    "language_info": {
      "name": "python"
    }
  },
  "cells": [
    {
      "cell_type": "markdown",
      "source": [
        "# Importing dataset and libraries"
      ],
      "metadata": {
        "id": "0DwuMcSYiWVo"
      }
    },
    {
      "cell_type": "code",
      "source": [
        "from google.colab import drive\n",
        "drive.mount('/gdrive')"
      ],
      "metadata": {
        "id": "XpDCCUO7YCXB"
      },
      "execution_count": null,
      "outputs": []
    },
    {
      "cell_type": "code",
      "source": [
        "%cd /gdrive/My Drive/DIQ/_project"
      ],
      "metadata": {
        "id": "8OtU02OJYKei"
      },
      "execution_count": null,
      "outputs": []
    },
    {
      "cell_type": "code",
      "source": [
        "import numpy as np\n",
        "import random\n",
        "import pandas as pd"
      ],
      "metadata": {
        "id": "Ih6p7sB2Z-O1"
      },
      "execution_count": 36,
      "outputs": []
    },
    {
      "cell_type": "code",
      "execution_count": 37,
      "metadata": {
        "id": "iLtKdNHsR1xF"
      },
      "outputs": [],
      "source": [
        "#defining inject outliers functions\n",
        "\n",
        "def out_of_range(minimum, maximum):\n",
        "    foo = [\"up\", \"down\"]\n",
        "    f = random.choice(foo)\n",
        "    dist = maximum - minimum\n",
        "\n",
        "    if f == \"up\":\n",
        "        number = random.uniform(maximum, maximum + dist*10)\n",
        "    else:\n",
        "        number = random.uniform(minimum - dist*10, minimum)\n",
        "\n",
        "    return number\n",
        "\n",
        "def check_datatypes(df):\n",
        "    for col in df.columns:\n",
        "        if (df[col].dtype == \"bool\"):\n",
        "            df[col] = df[col].astype('string')\n",
        "            df[col] = df[col].astype('object')\n",
        "    return  df\n",
        "\n",
        "def injection(df_pandas, seed, name, name_class):\n",
        "\n",
        "    np.random.seed(seed)\n",
        "\n",
        "    #%%\n",
        "\n",
        "    df_list = []\n",
        "\n",
        "    #percentuale di errori\n",
        "    perc = [0.50, 0.40, 0.30, 0.20, 0.10]\n",
        "    for p in perc:\n",
        "        df_dirt = df_pandas.copy()\n",
        "        comp = [p,1-p]\n",
        "        df_dirt = check_datatypes(df_dirt)\n",
        "\n",
        "        for col in df_dirt.columns:\n",
        "            #per evitare di cancellare le class\n",
        "            if col!=name_class:\n",
        "\n",
        "                if (df_dirt[col].dtype != \"object\"):\n",
        "                    minimum = float(df_dirt[col].min())\n",
        "                    maximum = float(df_dirt[col].max())\n",
        "                    rand = np.random.choice([True, False], size=df_dirt.shape[0], p=comp)\n",
        "                    selected = df_dirt.loc[rand == True,col]\n",
        "                    t=0\n",
        "                    for i in selected:\n",
        "                        selected.iloc[t:t+1] = out_of_range(minimum, maximum)\n",
        "                        t+=1\n",
        "\n",
        "                    df_dirt.loc[rand == True,col]=selected\n",
        "\n",
        "        df_list.append(df_dirt)\n",
        "        print(\"saved {}-accuracy{}%\".format(name, round((1-p)*100)))\n",
        "    return df_list\n"
      ]
    },
    {
      "cell_type": "code",
      "source": [
        "#importing data\n",
        "ds_german_nodirty = pd.read_csv('german.csv')\n",
        "ds_german_nodirty"
      ],
      "metadata": {
        "colab": {
          "base_uri": "https://localhost:8080/",
          "height": 424
        },
        "id": "rn3SlcH7YPev",
        "outputId": "58012b4d-01c1-423b-beac-a0d2ef9968f0"
      },
      "execution_count": 38,
      "outputs": [
        {
          "output_type": "execute_result",
          "data": {
            "text/plain": [
              "     Age     Sex  Job Housing Saving_accounts Checking_account  Credit_amount  \\\n",
              "0     67    male    2     own          little           little           1169   \n",
              "1     22  female    2     own          little         moderate           5951   \n",
              "2     49    male    1     own          little           little           2096   \n",
              "3     45    male    2    free          little           little           7882   \n",
              "4     53    male    2    free          little           little           4870   \n",
              "..   ...     ...  ...     ...             ...              ...            ...   \n",
              "995   31  female    1     own          little           little           1736   \n",
              "996   40    male    3     own          little           little           3857   \n",
              "997   38    male    2     own          little           little            804   \n",
              "998   23    male    2    free          little           little           1845   \n",
              "999   27    male    2     own        moderate         moderate           4576   \n",
              "\n",
              "     Duration              Purpose  Risk  \n",
              "0           6             radio/TV  good  \n",
              "1          48             radio/TV   bad  \n",
              "2          12            education  good  \n",
              "3          42  furniture/equipment  good  \n",
              "4          24                  car   bad  \n",
              "..        ...                  ...   ...  \n",
              "995        12  furniture/equipment  good  \n",
              "996        30                  car  good  \n",
              "997        12             radio/TV  good  \n",
              "998        45             radio/TV   bad  \n",
              "999        45                  car  good  \n",
              "\n",
              "[1000 rows x 10 columns]"
            ],
            "text/html": [
              "\n",
              "  <div id=\"df-04520c95-2a75-4da6-aeaa-7c7222bd0585\">\n",
              "    <div class=\"colab-df-container\">\n",
              "      <div>\n",
              "<style scoped>\n",
              "    .dataframe tbody tr th:only-of-type {\n",
              "        vertical-align: middle;\n",
              "    }\n",
              "\n",
              "    .dataframe tbody tr th {\n",
              "        vertical-align: top;\n",
              "    }\n",
              "\n",
              "    .dataframe thead th {\n",
              "        text-align: right;\n",
              "    }\n",
              "</style>\n",
              "<table border=\"1\" class=\"dataframe\">\n",
              "  <thead>\n",
              "    <tr style=\"text-align: right;\">\n",
              "      <th></th>\n",
              "      <th>Age</th>\n",
              "      <th>Sex</th>\n",
              "      <th>Job</th>\n",
              "      <th>Housing</th>\n",
              "      <th>Saving_accounts</th>\n",
              "      <th>Checking_account</th>\n",
              "      <th>Credit_amount</th>\n",
              "      <th>Duration</th>\n",
              "      <th>Purpose</th>\n",
              "      <th>Risk</th>\n",
              "    </tr>\n",
              "  </thead>\n",
              "  <tbody>\n",
              "    <tr>\n",
              "      <th>0</th>\n",
              "      <td>67</td>\n",
              "      <td>male</td>\n",
              "      <td>2</td>\n",
              "      <td>own</td>\n",
              "      <td>little</td>\n",
              "      <td>little</td>\n",
              "      <td>1169</td>\n",
              "      <td>6</td>\n",
              "      <td>radio/TV</td>\n",
              "      <td>good</td>\n",
              "    </tr>\n",
              "    <tr>\n",
              "      <th>1</th>\n",
              "      <td>22</td>\n",
              "      <td>female</td>\n",
              "      <td>2</td>\n",
              "      <td>own</td>\n",
              "      <td>little</td>\n",
              "      <td>moderate</td>\n",
              "      <td>5951</td>\n",
              "      <td>48</td>\n",
              "      <td>radio/TV</td>\n",
              "      <td>bad</td>\n",
              "    </tr>\n",
              "    <tr>\n",
              "      <th>2</th>\n",
              "      <td>49</td>\n",
              "      <td>male</td>\n",
              "      <td>1</td>\n",
              "      <td>own</td>\n",
              "      <td>little</td>\n",
              "      <td>little</td>\n",
              "      <td>2096</td>\n",
              "      <td>12</td>\n",
              "      <td>education</td>\n",
              "      <td>good</td>\n",
              "    </tr>\n",
              "    <tr>\n",
              "      <th>3</th>\n",
              "      <td>45</td>\n",
              "      <td>male</td>\n",
              "      <td>2</td>\n",
              "      <td>free</td>\n",
              "      <td>little</td>\n",
              "      <td>little</td>\n",
              "      <td>7882</td>\n",
              "      <td>42</td>\n",
              "      <td>furniture/equipment</td>\n",
              "      <td>good</td>\n",
              "    </tr>\n",
              "    <tr>\n",
              "      <th>4</th>\n",
              "      <td>53</td>\n",
              "      <td>male</td>\n",
              "      <td>2</td>\n",
              "      <td>free</td>\n",
              "      <td>little</td>\n",
              "      <td>little</td>\n",
              "      <td>4870</td>\n",
              "      <td>24</td>\n",
              "      <td>car</td>\n",
              "      <td>bad</td>\n",
              "    </tr>\n",
              "    <tr>\n",
              "      <th>...</th>\n",
              "      <td>...</td>\n",
              "      <td>...</td>\n",
              "      <td>...</td>\n",
              "      <td>...</td>\n",
              "      <td>...</td>\n",
              "      <td>...</td>\n",
              "      <td>...</td>\n",
              "      <td>...</td>\n",
              "      <td>...</td>\n",
              "      <td>...</td>\n",
              "    </tr>\n",
              "    <tr>\n",
              "      <th>995</th>\n",
              "      <td>31</td>\n",
              "      <td>female</td>\n",
              "      <td>1</td>\n",
              "      <td>own</td>\n",
              "      <td>little</td>\n",
              "      <td>little</td>\n",
              "      <td>1736</td>\n",
              "      <td>12</td>\n",
              "      <td>furniture/equipment</td>\n",
              "      <td>good</td>\n",
              "    </tr>\n",
              "    <tr>\n",
              "      <th>996</th>\n",
              "      <td>40</td>\n",
              "      <td>male</td>\n",
              "      <td>3</td>\n",
              "      <td>own</td>\n",
              "      <td>little</td>\n",
              "      <td>little</td>\n",
              "      <td>3857</td>\n",
              "      <td>30</td>\n",
              "      <td>car</td>\n",
              "      <td>good</td>\n",
              "    </tr>\n",
              "    <tr>\n",
              "      <th>997</th>\n",
              "      <td>38</td>\n",
              "      <td>male</td>\n",
              "      <td>2</td>\n",
              "      <td>own</td>\n",
              "      <td>little</td>\n",
              "      <td>little</td>\n",
              "      <td>804</td>\n",
              "      <td>12</td>\n",
              "      <td>radio/TV</td>\n",
              "      <td>good</td>\n",
              "    </tr>\n",
              "    <tr>\n",
              "      <th>998</th>\n",
              "      <td>23</td>\n",
              "      <td>male</td>\n",
              "      <td>2</td>\n",
              "      <td>free</td>\n",
              "      <td>little</td>\n",
              "      <td>little</td>\n",
              "      <td>1845</td>\n",
              "      <td>45</td>\n",
              "      <td>radio/TV</td>\n",
              "      <td>bad</td>\n",
              "    </tr>\n",
              "    <tr>\n",
              "      <th>999</th>\n",
              "      <td>27</td>\n",
              "      <td>male</td>\n",
              "      <td>2</td>\n",
              "      <td>own</td>\n",
              "      <td>moderate</td>\n",
              "      <td>moderate</td>\n",
              "      <td>4576</td>\n",
              "      <td>45</td>\n",
              "      <td>car</td>\n",
              "      <td>good</td>\n",
              "    </tr>\n",
              "  </tbody>\n",
              "</table>\n",
              "<p>1000 rows × 10 columns</p>\n",
              "</div>\n",
              "      <button class=\"colab-df-convert\" onclick=\"convertToInteractive('df-04520c95-2a75-4da6-aeaa-7c7222bd0585')\"\n",
              "              title=\"Convert this dataframe to an interactive table.\"\n",
              "              style=\"display:none;\">\n",
              "        \n",
              "  <svg xmlns=\"http://www.w3.org/2000/svg\" height=\"24px\"viewBox=\"0 0 24 24\"\n",
              "       width=\"24px\">\n",
              "    <path d=\"M0 0h24v24H0V0z\" fill=\"none\"/>\n",
              "    <path d=\"M18.56 5.44l.94 2.06.94-2.06 2.06-.94-2.06-.94-.94-2.06-.94 2.06-2.06.94zm-11 1L8.5 8.5l.94-2.06 2.06-.94-2.06-.94L8.5 2.5l-.94 2.06-2.06.94zm10 10l.94 2.06.94-2.06 2.06-.94-2.06-.94-.94-2.06-.94 2.06-2.06.94z\"/><path d=\"M17.41 7.96l-1.37-1.37c-.4-.4-.92-.59-1.43-.59-.52 0-1.04.2-1.43.59L10.3 9.45l-7.72 7.72c-.78.78-.78 2.05 0 2.83L4 21.41c.39.39.9.59 1.41.59.51 0 1.02-.2 1.41-.59l7.78-7.78 2.81-2.81c.8-.78.8-2.07 0-2.86zM5.41 20L4 18.59l7.72-7.72 1.47 1.35L5.41 20z\"/>\n",
              "  </svg>\n",
              "      </button>\n",
              "      \n",
              "  <style>\n",
              "    .colab-df-container {\n",
              "      display:flex;\n",
              "      flex-wrap:wrap;\n",
              "      gap: 12px;\n",
              "    }\n",
              "\n",
              "    .colab-df-convert {\n",
              "      background-color: #E8F0FE;\n",
              "      border: none;\n",
              "      border-radius: 50%;\n",
              "      cursor: pointer;\n",
              "      display: none;\n",
              "      fill: #1967D2;\n",
              "      height: 32px;\n",
              "      padding: 0 0 0 0;\n",
              "      width: 32px;\n",
              "    }\n",
              "\n",
              "    .colab-df-convert:hover {\n",
              "      background-color: #E2EBFA;\n",
              "      box-shadow: 0px 1px 2px rgba(60, 64, 67, 0.3), 0px 1px 3px 1px rgba(60, 64, 67, 0.15);\n",
              "      fill: #174EA6;\n",
              "    }\n",
              "\n",
              "    [theme=dark] .colab-df-convert {\n",
              "      background-color: #3B4455;\n",
              "      fill: #D2E3FC;\n",
              "    }\n",
              "\n",
              "    [theme=dark] .colab-df-convert:hover {\n",
              "      background-color: #434B5C;\n",
              "      box-shadow: 0px 1px 3px 1px rgba(0, 0, 0, 0.15);\n",
              "      filter: drop-shadow(0px 1px 2px rgba(0, 0, 0, 0.3));\n",
              "      fill: #FFFFFF;\n",
              "    }\n",
              "  </style>\n",
              "\n",
              "      <script>\n",
              "        const buttonEl =\n",
              "          document.querySelector('#df-04520c95-2a75-4da6-aeaa-7c7222bd0585 button.colab-df-convert');\n",
              "        buttonEl.style.display =\n",
              "          google.colab.kernel.accessAllowed ? 'block' : 'none';\n",
              "\n",
              "        async function convertToInteractive(key) {\n",
              "          const element = document.querySelector('#df-04520c95-2a75-4da6-aeaa-7c7222bd0585');\n",
              "          const dataTable =\n",
              "            await google.colab.kernel.invokeFunction('convertToInteractive',\n",
              "                                                     [key], {});\n",
              "          if (!dataTable) return;\n",
              "\n",
              "          const docLinkHtml = 'Like what you see? Visit the ' +\n",
              "            '<a target=\"_blank\" href=https://colab.research.google.com/notebooks/data_table.ipynb>data table notebook</a>'\n",
              "            + ' to learn more about interactive tables.';\n",
              "          element.innerHTML = '';\n",
              "          dataTable['output_type'] = 'display_data';\n",
              "          await google.colab.output.renderOutput(dataTable, element);\n",
              "          const docLink = document.createElement('div');\n",
              "          docLink.innerHTML = docLinkHtml;\n",
              "          element.appendChild(docLink);\n",
              "        }\n",
              "      </script>\n",
              "    </div>\n",
              "  </div>\n",
              "  "
            ]
          },
          "metadata": {},
          "execution_count": 38
        }
      ]
    },
    {
      "cell_type": "markdown",
      "source": [
        "# Injecting outliers\n"
      ],
      "metadata": {
        "id": "E8Z7vwkIg0DD"
      }
    },
    {
      "cell_type": "code",
      "source": [
        "#injecting outliers\n",
        "ds_german_dirty = injection(ds_german_nodirty, 32, \"german\", \"Risk\")"
      ],
      "metadata": {
        "colab": {
          "base_uri": "https://localhost:8080/"
        },
        "id": "U3g7ezJTYhuN",
        "outputId": "5825232d-f29c-4e73-b273-d60b1602d16c"
      },
      "execution_count": 39,
      "outputs": [
        {
          "output_type": "stream",
          "name": "stdout",
          "text": [
            "saved german-accuracy50%\n",
            "saved german-accuracy60%\n",
            "saved german-accuracy70%\n",
            "saved german-accuracy80%\n",
            "saved german-accuracy90%\n"
          ]
        }
      ]
    },
    {
      "cell_type": "code",
      "source": [
        "ds_german_dirty"
      ],
      "metadata": {
        "id": "C7rZ9JqkaW1x",
        "colab": {
          "base_uri": "https://localhost:8080/"
        },
        "outputId": "e28670da-3026-4baa-a0f9-fa1d77fb4e82"
      },
      "execution_count": 40,
      "outputs": [
        {
          "output_type": "execute_result",
          "data": {
            "text/plain": [
              "[            Age     Sex        Job Housing Saving_accounts Checking_account  \\\n",
              " 0     67.000000    male   2.000000     own          little           little   \n",
              " 1   -517.133416  female   2.000000     own          little         moderate   \n",
              " 2     49.000000    male   1.000000     own          little           little   \n",
              " 3     45.000000    male  23.657056    free          little           little   \n",
              " 4     53.000000    male   2.000000    free          little           little   \n",
              " ..          ...     ...        ...     ...             ...              ...   \n",
              " 995  407.487669  female   1.000000     own          little           little   \n",
              " 996  119.900887    male  27.879062     own          little           little   \n",
              " 997   38.000000    male -27.959879     own          little           little   \n",
              " 998  475.341631    male   2.000000    free          little           little   \n",
              " 999   27.000000    male   2.000000     own        moderate         moderate   \n",
              " \n",
              "      Credit_amount    Duration              Purpose  Risk  \n",
              " 0    150897.985357   92.105732             radio/TV  good  \n",
              " 1    131374.719235   48.000000             radio/TV   bad  \n",
              " 2    -62331.104930   12.000000            education  good  \n",
              " 3    108095.103100 -362.962054  furniture/equipment  good  \n",
              " 4      4870.000000 -601.356854                  car   bad  \n",
              " ..             ...         ...                  ...   ...  \n",
              " 995  -37123.888680   12.000000  furniture/equipment  good  \n",
              " 996    3857.000000  346.136819                  car  good  \n",
              " 997   39565.141106  -36.379644             radio/TV  good  \n",
              " 998    1845.000000   45.000000             radio/TV   bad  \n",
              " 999  -10216.168668  490.350372                  car  good  \n",
              " \n",
              " [1000 rows x 10 columns],\n",
              "             Age     Sex        Job Housing Saving_accounts Checking_account  \\\n",
              " 0     67.000000    male   2.000000     own          little           little   \n",
              " 1   -459.352330  female   2.000000     own          little         moderate   \n",
              " 2     49.000000    male   1.000000     own          little           little   \n",
              " 3     78.051035    male -26.364591    free          little           little   \n",
              " 4     53.000000    male   2.000000    free          little           little   \n",
              " ..          ...     ...        ...     ...             ...              ...   \n",
              " 995  130.533865  female  31.103506     own          little           little   \n",
              " 996   40.000000    male   3.000000     own          little           little   \n",
              " 997   38.000000    male   2.000000     own          little           little   \n",
              " 998   87.813476    male -25.751614    free          little           little   \n",
              " 999   27.000000    male   2.000000     own        moderate         moderate   \n",
              " \n",
              "      Credit_amount    Duration              Purpose  Risk  \n",
              " 0      1169.000000  651.798330             radio/TV  good  \n",
              " 1      5951.000000   48.000000             radio/TV   bad  \n",
              " 2      2096.000000   12.000000            education  good  \n",
              " 3      7882.000000   42.000000  furniture/equipment  good  \n",
              " 4      4870.000000   24.000000                  car   bad  \n",
              " ..             ...         ...                  ...   ...  \n",
              " 995    1736.000000   12.000000  furniture/equipment  good  \n",
              " 996  141866.551456   30.000000                  car  good  \n",
              " 997     804.000000   12.000000             radio/TV  good  \n",
              " 998  164150.093484 -286.650375             radio/TV   bad  \n",
              " 999    4576.000000   45.000000                  car  good  \n",
              " \n",
              " [1000 rows x 10 columns],\n",
              "             Age     Sex  Job Housing Saving_accounts Checking_account  \\\n",
              " 0     67.000000    male  2.0     own          little           little   \n",
              " 1    144.954640  female  2.0     own          little         moderate   \n",
              " 2    240.354303    male  1.0     own          little           little   \n",
              " 3     45.000000    male  2.0    free          little           little   \n",
              " 4    348.519890    male  2.0    free          little           little   \n",
              " ..          ...     ...  ...     ...             ...              ...   \n",
              " 995   31.000000  female  1.0     own          little           little   \n",
              " 996   40.000000    male  3.0     own          little           little   \n",
              " 997  373.971967    male  2.0     own          little           little   \n",
              " 998   23.000000    male  2.0    free          little           little   \n",
              " 999   27.000000    male  2.0     own        moderate         moderate   \n",
              " \n",
              "      Credit_amount    Duration              Purpose  Risk  \n",
              " 0      1169.000000  707.198104             radio/TV  good  \n",
              " 1      5951.000000   48.000000             radio/TV   bad  \n",
              " 2      2096.000000  671.369134            education  good  \n",
              " 3      7882.000000   42.000000  furniture/equipment  good  \n",
              " 4      4870.000000   24.000000                  car   bad  \n",
              " ..             ...         ...                  ...   ...  \n",
              " 995  -88527.365023   12.000000  furniture/equipment  good  \n",
              " 996    3857.000000   30.000000                  car  good  \n",
              " 997     804.000000 -338.138044             radio/TV  good  \n",
              " 998    1845.000000 -646.233926             radio/TV   bad  \n",
              " 999    4576.000000   45.000000                  car  good  \n",
              " \n",
              " [1000 rows x 10 columns],\n",
              "             Age     Sex  Job Housing Saving_accounts Checking_account  \\\n",
              " 0   -281.313613    male  2.0     own          little           little   \n",
              " 1     22.000000  female  2.0     own          little         moderate   \n",
              " 2     49.000000    male  1.0     own          little           little   \n",
              " 3    414.216531    male  2.0    free          little           little   \n",
              " 4   -361.904949    male  2.0    free          little           little   \n",
              " ..          ...     ...  ...     ...             ...              ...   \n",
              " 995   31.000000  female  1.0     own          little           little   \n",
              " 996 -496.574191    male  3.0     own          little           little   \n",
              " 997  134.977964    male  2.0     own          little           little   \n",
              " 998   23.000000    male  2.0    free          little           little   \n",
              " 999   27.000000    male  2.0     own        moderate         moderate   \n",
              " \n",
              "      Credit_amount  Duration              Purpose  Risk  \n",
              " 0           1169.0       6.0             radio/TV  good  \n",
              " 1           5951.0      48.0             radio/TV   bad  \n",
              " 2           2096.0      12.0            education  good  \n",
              " 3           7882.0      42.0  furniture/equipment  good  \n",
              " 4           4870.0      24.0                  car   bad  \n",
              " ..             ...       ...                  ...   ...  \n",
              " 995         1736.0      12.0  furniture/equipment  good  \n",
              " 996         3857.0      30.0                  car  good  \n",
              " 997          804.0      12.0             radio/TV  good  \n",
              " 998         1845.0      45.0             radio/TV   bad  \n",
              " 999         4576.0      45.0                  car  good  \n",
              " \n",
              " [1000 rows x 10 columns],\n",
              "             Age     Sex  Job Housing Saving_accounts Checking_account  \\\n",
              " 0     67.000000    male  2.0     own          little           little   \n",
              " 1     22.000000  female  2.0     own          little         moderate   \n",
              " 2     49.000000    male  1.0     own          little           little   \n",
              " 3    520.782189    male  2.0    free          little           little   \n",
              " 4     53.000000    male  2.0    free          little           little   \n",
              " ..          ...     ...  ...     ...             ...              ...   \n",
              " 995   31.000000  female  1.0     own          little           little   \n",
              " 996   40.000000    male  3.0     own          little           little   \n",
              " 997   38.000000    male  2.0     own          little           little   \n",
              " 998   23.000000    male  2.0    free          little           little   \n",
              " 999   27.000000    male  2.0     own        moderate         moderate   \n",
              " \n",
              "      Credit_amount  Duration              Purpose  Risk  \n",
              " 0           1169.0       6.0             radio/TV  good  \n",
              " 1           5951.0      48.0             radio/TV   bad  \n",
              " 2           2096.0      12.0            education  good  \n",
              " 3           7882.0      42.0  furniture/equipment  good  \n",
              " 4           4870.0      24.0                  car   bad  \n",
              " ..             ...       ...                  ...   ...  \n",
              " 995         1736.0      12.0  furniture/equipment  good  \n",
              " 996         3857.0      30.0                  car  good  \n",
              " 997          804.0      12.0             radio/TV  good  \n",
              " 998         1845.0      45.0             radio/TV   bad  \n",
              " 999         4576.0      45.0                  car  good  \n",
              " \n",
              " [1000 rows x 10 columns]]"
            ]
          },
          "metadata": {},
          "execution_count": 40
        }
      ]
    },
    {
      "cell_type": "code",
      "source": [
        "df_german_10dirty = ds_german_dirty[4]\n",
        "df_german_20dirty = ds_german_dirty[3]\n",
        "df_german_30dirty = ds_german_dirty[2]\n",
        "df_german_40dirty = ds_german_dirty[1]\n",
        "df_german_50dirty = ds_german_dirty[0]"
      ],
      "metadata": {
        "id": "Gb-KQv3eruTI"
      },
      "execution_count": 41,
      "outputs": []
    },
    {
      "cell_type": "markdown",
      "source": [
        "#Analyzing dataset with outliers"
      ],
      "metadata": {
        "id": "wsQy26JGrULt"
      }
    },
    {
      "cell_type": "markdown",
      "source": [
        "##Creating reports"
      ],
      "metadata": {
        "id": "Z6JkgDO7uOVj"
      }
    },
    {
      "cell_type": "code",
      "source": [
        "#installing package to use pandas profiling on colab\n",
        "#! pip install https://github.com/pandas-profiling/pandas-profiling/archive/master.zip "
      ],
      "metadata": {
        "id": "g0hINROmwZ5p"
      },
      "execution_count": 42,
      "outputs": []
    },
    {
      "cell_type": "code",
      "source": [
        "#import library\n",
        "import pandas_profiling as pp\n",
        "from pandas_profiling import ProfileReport "
      ],
      "metadata": {
        "id": "ewPLGhqDsosQ"
      },
      "execution_count": 43,
      "outputs": []
    },
    {
      "cell_type": "code",
      "source": [
        "#generating report of the original dataset without outliers just for curiosity...\n",
        "#profile_nodirty = ProfileReport(ds_german_nodirty, title=\"german\", html={'style' : {'full_width':True}})\n",
        "#profile_nodirty.to_file(output_file=\"german_nodirty_report.html\") "
      ],
      "metadata": {
        "id": "0w_o2f2xxS9W"
      },
      "execution_count": 44,
      "outputs": []
    },
    {
      "cell_type": "code",
      "source": [
        "#generating report of the dataset with 10% outliers\n",
        "#profile_10dirty = ProfileReport(df_german_10dirty, title=\"german_10%dirty\", html={'style' : {'full_width':True}})\n",
        "#profile_10dirty.to_file(output_file=\"german_10%dirty_report.html\") "
      ],
      "metadata": {
        "id": "K0f2-gcz3Hs-"
      },
      "execution_count": 45,
      "outputs": []
    },
    {
      "cell_type": "code",
      "source": [
        "#generating report of the dataset with 20% outliers\n",
        "#profile_20dirty = ProfileReport(df_german_20dirty, title=\"german_20%dirty\", html={'style' : {'full_width':True}})\n",
        "#profile_20dirty.to_file(output_file=\"german_20%dirty_report.html\") "
      ],
      "metadata": {
        "id": "dH1LOYA1tJns"
      },
      "execution_count": 46,
      "outputs": []
    },
    {
      "cell_type": "code",
      "source": [
        "#generating report of the dataset with 10% outliers\n",
        "#profile_30dirty = ProfileReport(df_german_30dirty, title=\"german_30%dirty\", html={'style' : {'full_width':True}})\n",
        "#profile_30dirty.to_file(output_file=\"german_30%dirty_report.html\") "
      ],
      "metadata": {
        "id": "0PotuGwqtKmK"
      },
      "execution_count": 47,
      "outputs": []
    },
    {
      "cell_type": "code",
      "source": [
        "#generating report of the dataset with 10% outliers\n",
        "#profile_40dirty = ProfileReport(df_german_40dirty, title=\"german_40%dirty\", html={'style' : {'full_width':True}})\n",
        "#profile_40dirty.to_file(output_file=\"german_40%dirty_report.html\") "
      ],
      "metadata": {
        "id": "y71VjI8vtLJ5"
      },
      "execution_count": 48,
      "outputs": []
    },
    {
      "cell_type": "code",
      "source": [
        "#generating report of the dataset with 10% outliers\n",
        "#profile_50dirty = ProfileReport(df_german_50dirty, title=\"german_50%dirty\", html={'style' : {'full_width':True}})\n",
        "#profile_50dirty.to_file(output_file=\"german_50%dirty_report.html\") "
      ],
      "metadata": {
        "id": "meU93UZrtL8n"
      },
      "execution_count": 49,
      "outputs": []
    },
    {
      "cell_type": "markdown",
      "source": [
        "# Data preparation"
      ],
      "metadata": {
        "id": "DdSakxqkN-L3"
      }
    },
    {
      "cell_type": "code",
      "source": [
        "#here you can select which precentage of outliers in the dataset you want to have and the target class\n",
        "ds_dirty = df_german_40dirty\n",
        "target = 'Risk'"
      ],
      "metadata": {
        "id": "UMclkTqxeZwW"
      },
      "execution_count": 50,
      "outputs": []
    },
    {
      "cell_type": "code",
      "source": [
        "#dropping categorical \n",
        "def drop_categorical(dataset):\n",
        "  df_noCat = dataset.drop([\"Sex\", \"Housing\", \"Saving_accounts\", \"Checking_account\", \"Purpose\", \"Risk\"], axis = 1) \n",
        "  return df_noCat"
      ],
      "metadata": {
        "id": "9OXxql2yadA2"
      },
      "execution_count": 51,
      "outputs": []
    },
    {
      "cell_type": "code",
      "source": [
        "ds_dirty_noCat = drop_categorical(ds_dirty)\n",
        "ds_dirty_noCat"
      ],
      "metadata": {
        "colab": {
          "base_uri": "https://localhost:8080/",
          "height": 424
        },
        "id": "oFfzwxnugbr6",
        "outputId": "c12cc2af-ec2a-42b4-e182-4fb85023244a"
      },
      "execution_count": 52,
      "outputs": [
        {
          "output_type": "execute_result",
          "data": {
            "text/plain": [
              "            Age        Job  Credit_amount    Duration\n",
              "0     67.000000   2.000000    1169.000000  651.798330\n",
              "1   -459.352330   2.000000    5951.000000   48.000000\n",
              "2     49.000000   1.000000    2096.000000   12.000000\n",
              "3     78.051035 -26.364591    7882.000000   42.000000\n",
              "4     53.000000   2.000000    4870.000000   24.000000\n",
              "..          ...        ...            ...         ...\n",
              "995  130.533865  31.103506    1736.000000   12.000000\n",
              "996   40.000000   3.000000  141866.551456   30.000000\n",
              "997   38.000000   2.000000     804.000000   12.000000\n",
              "998   87.813476 -25.751614  164150.093484 -286.650375\n",
              "999   27.000000   2.000000    4576.000000   45.000000\n",
              "\n",
              "[1000 rows x 4 columns]"
            ],
            "text/html": [
              "\n",
              "  <div id=\"df-8412c98e-37f4-4492-b6a1-88c90b22db4e\">\n",
              "    <div class=\"colab-df-container\">\n",
              "      <div>\n",
              "<style scoped>\n",
              "    .dataframe tbody tr th:only-of-type {\n",
              "        vertical-align: middle;\n",
              "    }\n",
              "\n",
              "    .dataframe tbody tr th {\n",
              "        vertical-align: top;\n",
              "    }\n",
              "\n",
              "    .dataframe thead th {\n",
              "        text-align: right;\n",
              "    }\n",
              "</style>\n",
              "<table border=\"1\" class=\"dataframe\">\n",
              "  <thead>\n",
              "    <tr style=\"text-align: right;\">\n",
              "      <th></th>\n",
              "      <th>Age</th>\n",
              "      <th>Job</th>\n",
              "      <th>Credit_amount</th>\n",
              "      <th>Duration</th>\n",
              "    </tr>\n",
              "  </thead>\n",
              "  <tbody>\n",
              "    <tr>\n",
              "      <th>0</th>\n",
              "      <td>67.000000</td>\n",
              "      <td>2.000000</td>\n",
              "      <td>1169.000000</td>\n",
              "      <td>651.798330</td>\n",
              "    </tr>\n",
              "    <tr>\n",
              "      <th>1</th>\n",
              "      <td>-459.352330</td>\n",
              "      <td>2.000000</td>\n",
              "      <td>5951.000000</td>\n",
              "      <td>48.000000</td>\n",
              "    </tr>\n",
              "    <tr>\n",
              "      <th>2</th>\n",
              "      <td>49.000000</td>\n",
              "      <td>1.000000</td>\n",
              "      <td>2096.000000</td>\n",
              "      <td>12.000000</td>\n",
              "    </tr>\n",
              "    <tr>\n",
              "      <th>3</th>\n",
              "      <td>78.051035</td>\n",
              "      <td>-26.364591</td>\n",
              "      <td>7882.000000</td>\n",
              "      <td>42.000000</td>\n",
              "    </tr>\n",
              "    <tr>\n",
              "      <th>4</th>\n",
              "      <td>53.000000</td>\n",
              "      <td>2.000000</td>\n",
              "      <td>4870.000000</td>\n",
              "      <td>24.000000</td>\n",
              "    </tr>\n",
              "    <tr>\n",
              "      <th>...</th>\n",
              "      <td>...</td>\n",
              "      <td>...</td>\n",
              "      <td>...</td>\n",
              "      <td>...</td>\n",
              "    </tr>\n",
              "    <tr>\n",
              "      <th>995</th>\n",
              "      <td>130.533865</td>\n",
              "      <td>31.103506</td>\n",
              "      <td>1736.000000</td>\n",
              "      <td>12.000000</td>\n",
              "    </tr>\n",
              "    <tr>\n",
              "      <th>996</th>\n",
              "      <td>40.000000</td>\n",
              "      <td>3.000000</td>\n",
              "      <td>141866.551456</td>\n",
              "      <td>30.000000</td>\n",
              "    </tr>\n",
              "    <tr>\n",
              "      <th>997</th>\n",
              "      <td>38.000000</td>\n",
              "      <td>2.000000</td>\n",
              "      <td>804.000000</td>\n",
              "      <td>12.000000</td>\n",
              "    </tr>\n",
              "    <tr>\n",
              "      <th>998</th>\n",
              "      <td>87.813476</td>\n",
              "      <td>-25.751614</td>\n",
              "      <td>164150.093484</td>\n",
              "      <td>-286.650375</td>\n",
              "    </tr>\n",
              "    <tr>\n",
              "      <th>999</th>\n",
              "      <td>27.000000</td>\n",
              "      <td>2.000000</td>\n",
              "      <td>4576.000000</td>\n",
              "      <td>45.000000</td>\n",
              "    </tr>\n",
              "  </tbody>\n",
              "</table>\n",
              "<p>1000 rows × 4 columns</p>\n",
              "</div>\n",
              "      <button class=\"colab-df-convert\" onclick=\"convertToInteractive('df-8412c98e-37f4-4492-b6a1-88c90b22db4e')\"\n",
              "              title=\"Convert this dataframe to an interactive table.\"\n",
              "              style=\"display:none;\">\n",
              "        \n",
              "  <svg xmlns=\"http://www.w3.org/2000/svg\" height=\"24px\"viewBox=\"0 0 24 24\"\n",
              "       width=\"24px\">\n",
              "    <path d=\"M0 0h24v24H0V0z\" fill=\"none\"/>\n",
              "    <path d=\"M18.56 5.44l.94 2.06.94-2.06 2.06-.94-2.06-.94-.94-2.06-.94 2.06-2.06.94zm-11 1L8.5 8.5l.94-2.06 2.06-.94-2.06-.94L8.5 2.5l-.94 2.06-2.06.94zm10 10l.94 2.06.94-2.06 2.06-.94-2.06-.94-.94-2.06-.94 2.06-2.06.94z\"/><path d=\"M17.41 7.96l-1.37-1.37c-.4-.4-.92-.59-1.43-.59-.52 0-1.04.2-1.43.59L10.3 9.45l-7.72 7.72c-.78.78-.78 2.05 0 2.83L4 21.41c.39.39.9.59 1.41.59.51 0 1.02-.2 1.41-.59l7.78-7.78 2.81-2.81c.8-.78.8-2.07 0-2.86zM5.41 20L4 18.59l7.72-7.72 1.47 1.35L5.41 20z\"/>\n",
              "  </svg>\n",
              "      </button>\n",
              "      \n",
              "  <style>\n",
              "    .colab-df-container {\n",
              "      display:flex;\n",
              "      flex-wrap:wrap;\n",
              "      gap: 12px;\n",
              "    }\n",
              "\n",
              "    .colab-df-convert {\n",
              "      background-color: #E8F0FE;\n",
              "      border: none;\n",
              "      border-radius: 50%;\n",
              "      cursor: pointer;\n",
              "      display: none;\n",
              "      fill: #1967D2;\n",
              "      height: 32px;\n",
              "      padding: 0 0 0 0;\n",
              "      width: 32px;\n",
              "    }\n",
              "\n",
              "    .colab-df-convert:hover {\n",
              "      background-color: #E2EBFA;\n",
              "      box-shadow: 0px 1px 2px rgba(60, 64, 67, 0.3), 0px 1px 3px 1px rgba(60, 64, 67, 0.15);\n",
              "      fill: #174EA6;\n",
              "    }\n",
              "\n",
              "    [theme=dark] .colab-df-convert {\n",
              "      background-color: #3B4455;\n",
              "      fill: #D2E3FC;\n",
              "    }\n",
              "\n",
              "    [theme=dark] .colab-df-convert:hover {\n",
              "      background-color: #434B5C;\n",
              "      box-shadow: 0px 1px 3px 1px rgba(0, 0, 0, 0.15);\n",
              "      filter: drop-shadow(0px 1px 2px rgba(0, 0, 0, 0.3));\n",
              "      fill: #FFFFFF;\n",
              "    }\n",
              "  </style>\n",
              "\n",
              "      <script>\n",
              "        const buttonEl =\n",
              "          document.querySelector('#df-8412c98e-37f4-4492-b6a1-88c90b22db4e button.colab-df-convert');\n",
              "        buttonEl.style.display =\n",
              "          google.colab.kernel.accessAllowed ? 'block' : 'none';\n",
              "\n",
              "        async function convertToInteractive(key) {\n",
              "          const element = document.querySelector('#df-8412c98e-37f4-4492-b6a1-88c90b22db4e');\n",
              "          const dataTable =\n",
              "            await google.colab.kernel.invokeFunction('convertToInteractive',\n",
              "                                                     [key], {});\n",
              "          if (!dataTable) return;\n",
              "\n",
              "          const docLinkHtml = 'Like what you see? Visit the ' +\n",
              "            '<a target=\"_blank\" href=https://colab.research.google.com/notebooks/data_table.ipynb>data table notebook</a>'\n",
              "            + ' to learn more about interactive tables.';\n",
              "          element.innerHTML = '';\n",
              "          dataTable['output_type'] = 'display_data';\n",
              "          await google.colab.output.renderOutput(dataTable, element);\n",
              "          const docLink = document.createElement('div');\n",
              "          docLink.innerHTML = docLinkHtml;\n",
              "          element.appendChild(docLink);\n",
              "        }\n",
              "      </script>\n",
              "    </div>\n",
              "  </div>\n",
              "  "
            ]
          },
          "metadata": {},
          "execution_count": 52
        }
      ]
    },
    {
      "cell_type": "code",
      "source": [
        "#normalization of dataset\n",
        "\n",
        "from sklearn.preprocessing import StandardScaler\n",
        "\n",
        "def normalization(dataset):\n",
        "\n",
        "  feature_cols = list(dataset.columns)\n",
        "\n",
        "  X = dataset[1:][feature_cols] # Features\n",
        "\n",
        "  numeric_columns=list(X.select_dtypes(include=['int64','float64']).columns)\n",
        "  categorical_columns=list(X.select_dtypes(include=['bool','object']).columns)\n",
        "\n",
        "  feature_columns = list(X.columns)\n",
        "\n",
        "  if len(numeric_columns)!=0 and len(categorical_columns)==0:\n",
        "      X = StandardScaler().fit_transform(X)\n",
        "\n",
        "  X = np.nan_to_num(X)\n",
        "  df_norm = pd.DataFrame(X, columns=feature_columns)\n",
        "\n",
        "  return df_norm\n"
      ],
      "metadata": {
        "id": "rXEoXMrrOCXu"
      },
      "execution_count": 53,
      "outputs": []
    },
    {
      "cell_type": "code",
      "source": [
        "ds_dirty_noCat_norm = normalization(ds_dirty_noCat)\n",
        "ds_dirty_noCat_norm"
      ],
      "metadata": {
        "colab": {
          "base_uri": "https://localhost:8080/",
          "height": 424
        },
        "id": "bR92LzAVe1Mx",
        "outputId": "da435e93-4ca4-4795-b7dd-24b1f7abae5b"
      },
      "execution_count": 54,
      "outputs": [
        {
          "output_type": "execute_result",
          "data": {
            "text/plain": [
              "          Age       Job  Credit_amount  Duration\n",
              "0   -2.242962 -0.011980       0.025956  0.045192\n",
              "1    0.013857 -0.092026      -0.029507 -0.088984\n",
              "2    0.142828 -2.282465       0.053738  0.022830\n",
              "3    0.031615 -0.011980       0.010403 -0.044259\n",
              "4   -0.048296 -1.406892       0.070614 -2.100899\n",
              "..        ...       ...            ...       ...\n",
              "994  0.375825  2.317653      -0.034686 -0.088984\n",
              "995 -0.026098  0.068067       1.981396 -0.021896\n",
              "996 -0.034977 -0.011980      -0.048095 -0.088984\n",
              "997  0.186169 -2.233398       2.301993 -1.202089\n",
              "998 -0.083812 -0.011980       0.006174  0.034011\n",
              "\n",
              "[999 rows x 4 columns]"
            ],
            "text/html": [
              "\n",
              "  <div id=\"df-118096a9-0296-4e07-a22f-fa1f2e3b0751\">\n",
              "    <div class=\"colab-df-container\">\n",
              "      <div>\n",
              "<style scoped>\n",
              "    .dataframe tbody tr th:only-of-type {\n",
              "        vertical-align: middle;\n",
              "    }\n",
              "\n",
              "    .dataframe tbody tr th {\n",
              "        vertical-align: top;\n",
              "    }\n",
              "\n",
              "    .dataframe thead th {\n",
              "        text-align: right;\n",
              "    }\n",
              "</style>\n",
              "<table border=\"1\" class=\"dataframe\">\n",
              "  <thead>\n",
              "    <tr style=\"text-align: right;\">\n",
              "      <th></th>\n",
              "      <th>Age</th>\n",
              "      <th>Job</th>\n",
              "      <th>Credit_amount</th>\n",
              "      <th>Duration</th>\n",
              "    </tr>\n",
              "  </thead>\n",
              "  <tbody>\n",
              "    <tr>\n",
              "      <th>0</th>\n",
              "      <td>-2.242962</td>\n",
              "      <td>-0.011980</td>\n",
              "      <td>0.025956</td>\n",
              "      <td>0.045192</td>\n",
              "    </tr>\n",
              "    <tr>\n",
              "      <th>1</th>\n",
              "      <td>0.013857</td>\n",
              "      <td>-0.092026</td>\n",
              "      <td>-0.029507</td>\n",
              "      <td>-0.088984</td>\n",
              "    </tr>\n",
              "    <tr>\n",
              "      <th>2</th>\n",
              "      <td>0.142828</td>\n",
              "      <td>-2.282465</td>\n",
              "      <td>0.053738</td>\n",
              "      <td>0.022830</td>\n",
              "    </tr>\n",
              "    <tr>\n",
              "      <th>3</th>\n",
              "      <td>0.031615</td>\n",
              "      <td>-0.011980</td>\n",
              "      <td>0.010403</td>\n",
              "      <td>-0.044259</td>\n",
              "    </tr>\n",
              "    <tr>\n",
              "      <th>4</th>\n",
              "      <td>-0.048296</td>\n",
              "      <td>-1.406892</td>\n",
              "      <td>0.070614</td>\n",
              "      <td>-2.100899</td>\n",
              "    </tr>\n",
              "    <tr>\n",
              "      <th>...</th>\n",
              "      <td>...</td>\n",
              "      <td>...</td>\n",
              "      <td>...</td>\n",
              "      <td>...</td>\n",
              "    </tr>\n",
              "    <tr>\n",
              "      <th>994</th>\n",
              "      <td>0.375825</td>\n",
              "      <td>2.317653</td>\n",
              "      <td>-0.034686</td>\n",
              "      <td>-0.088984</td>\n",
              "    </tr>\n",
              "    <tr>\n",
              "      <th>995</th>\n",
              "      <td>-0.026098</td>\n",
              "      <td>0.068067</td>\n",
              "      <td>1.981396</td>\n",
              "      <td>-0.021896</td>\n",
              "    </tr>\n",
              "    <tr>\n",
              "      <th>996</th>\n",
              "      <td>-0.034977</td>\n",
              "      <td>-0.011980</td>\n",
              "      <td>-0.048095</td>\n",
              "      <td>-0.088984</td>\n",
              "    </tr>\n",
              "    <tr>\n",
              "      <th>997</th>\n",
              "      <td>0.186169</td>\n",
              "      <td>-2.233398</td>\n",
              "      <td>2.301993</td>\n",
              "      <td>-1.202089</td>\n",
              "    </tr>\n",
              "    <tr>\n",
              "      <th>998</th>\n",
              "      <td>-0.083812</td>\n",
              "      <td>-0.011980</td>\n",
              "      <td>0.006174</td>\n",
              "      <td>0.034011</td>\n",
              "    </tr>\n",
              "  </tbody>\n",
              "</table>\n",
              "<p>999 rows × 4 columns</p>\n",
              "</div>\n",
              "      <button class=\"colab-df-convert\" onclick=\"convertToInteractive('df-118096a9-0296-4e07-a22f-fa1f2e3b0751')\"\n",
              "              title=\"Convert this dataframe to an interactive table.\"\n",
              "              style=\"display:none;\">\n",
              "        \n",
              "  <svg xmlns=\"http://www.w3.org/2000/svg\" height=\"24px\"viewBox=\"0 0 24 24\"\n",
              "       width=\"24px\">\n",
              "    <path d=\"M0 0h24v24H0V0z\" fill=\"none\"/>\n",
              "    <path d=\"M18.56 5.44l.94 2.06.94-2.06 2.06-.94-2.06-.94-.94-2.06-.94 2.06-2.06.94zm-11 1L8.5 8.5l.94-2.06 2.06-.94-2.06-.94L8.5 2.5l-.94 2.06-2.06.94zm10 10l.94 2.06.94-2.06 2.06-.94-2.06-.94-.94-2.06-.94 2.06-2.06.94z\"/><path d=\"M17.41 7.96l-1.37-1.37c-.4-.4-.92-.59-1.43-.59-.52 0-1.04.2-1.43.59L10.3 9.45l-7.72 7.72c-.78.78-.78 2.05 0 2.83L4 21.41c.39.39.9.59 1.41.59.51 0 1.02-.2 1.41-.59l7.78-7.78 2.81-2.81c.8-.78.8-2.07 0-2.86zM5.41 20L4 18.59l7.72-7.72 1.47 1.35L5.41 20z\"/>\n",
              "  </svg>\n",
              "      </button>\n",
              "      \n",
              "  <style>\n",
              "    .colab-df-container {\n",
              "      display:flex;\n",
              "      flex-wrap:wrap;\n",
              "      gap: 12px;\n",
              "    }\n",
              "\n",
              "    .colab-df-convert {\n",
              "      background-color: #E8F0FE;\n",
              "      border: none;\n",
              "      border-radius: 50%;\n",
              "      cursor: pointer;\n",
              "      display: none;\n",
              "      fill: #1967D2;\n",
              "      height: 32px;\n",
              "      padding: 0 0 0 0;\n",
              "      width: 32px;\n",
              "    }\n",
              "\n",
              "    .colab-df-convert:hover {\n",
              "      background-color: #E2EBFA;\n",
              "      box-shadow: 0px 1px 2px rgba(60, 64, 67, 0.3), 0px 1px 3px 1px rgba(60, 64, 67, 0.15);\n",
              "      fill: #174EA6;\n",
              "    }\n",
              "\n",
              "    [theme=dark] .colab-df-convert {\n",
              "      background-color: #3B4455;\n",
              "      fill: #D2E3FC;\n",
              "    }\n",
              "\n",
              "    [theme=dark] .colab-df-convert:hover {\n",
              "      background-color: #434B5C;\n",
              "      box-shadow: 0px 1px 3px 1px rgba(0, 0, 0, 0.15);\n",
              "      filter: drop-shadow(0px 1px 2px rgba(0, 0, 0, 0.3));\n",
              "      fill: #FFFFFF;\n",
              "    }\n",
              "  </style>\n",
              "\n",
              "      <script>\n",
              "        const buttonEl =\n",
              "          document.querySelector('#df-118096a9-0296-4e07-a22f-fa1f2e3b0751 button.colab-df-convert');\n",
              "        buttonEl.style.display =\n",
              "          google.colab.kernel.accessAllowed ? 'block' : 'none';\n",
              "\n",
              "        async function convertToInteractive(key) {\n",
              "          const element = document.querySelector('#df-118096a9-0296-4e07-a22f-fa1f2e3b0751');\n",
              "          const dataTable =\n",
              "            await google.colab.kernel.invokeFunction('convertToInteractive',\n",
              "                                                     [key], {});\n",
              "          if (!dataTable) return;\n",
              "\n",
              "          const docLinkHtml = 'Like what you see? Visit the ' +\n",
              "            '<a target=\"_blank\" href=https://colab.research.google.com/notebooks/data_table.ipynb>data table notebook</a>'\n",
              "            + ' to learn more about interactive tables.';\n",
              "          element.innerHTML = '';\n",
              "          dataTable['output_type'] = 'display_data';\n",
              "          await google.colab.output.renderOutput(dataTable, element);\n",
              "          const docLink = document.createElement('div');\n",
              "          docLink.innerHTML = docLinkHtml;\n",
              "          element.appendChild(docLink);\n",
              "        }\n",
              "      </script>\n",
              "    </div>\n",
              "  </div>\n",
              "  "
            ]
          },
          "metadata": {},
          "execution_count": 54
        }
      ]
    },
    {
      "cell_type": "markdown",
      "source": [
        "# Computing 2 algorithms for the classification task on the dataset with outliers\n",
        "\n"
      ],
      "metadata": {
        "id": "gr43OZRDhQBp"
      }
    },
    {
      "cell_type": "markdown",
      "source": [
        "##Support Vector Machines"
      ],
      "metadata": {
        "id": "tkW4hHECJwMk"
      }
    },
    {
      "cell_type": "code",
      "source": [
        "#metrics array to test different metrics\n",
        "m = ['accuracy',\n",
        " 'adjusted_mutual_info_score',\n",
        " 'adjusted_rand_score',\n",
        " 'balanced_accuracy',\n",
        " 'f1_macro',\n",
        " 'f1_micro',\n",
        " 'f1_weighted',\n",
        " 'fowlkes_mallows_score',\n",
        " 'homogeneity_score',\n",
        " 'jaccard_macro',\n",
        " 'jaccard_micro',\n",
        " 'jaccard_weighted',\n",
        " 'mutual_info_score',\n",
        " 'normalized_mutual_info_score',\n",
        " 'precision_macro',\n",
        " 'precision_micro',\n",
        " 'precision_weighted',\n",
        " 'rand_score',\n",
        " 'recall_macro',\n",
        " 'recall_micro',\n",
        " 'recall_weighted',\n",
        " 'roc_auc',\n",
        " 'v_measure_score']"
      ],
      "metadata": {
        "id": "hdCo8-whLMuP"
      },
      "execution_count": 55,
      "outputs": []
    },
    {
      "cell_type": "code",
      "source": [
        "from sklearn.svm import SVC\n",
        "from sklearn.model_selection import ShuffleSplit, cross_val_score\n",
        "from sklearn.preprocessing import StandardScaler\n",
        "from sklearn import metrics"
      ],
      "metadata": {
        "id": "n-pZIbS4RRFm"
      },
      "execution_count": 56,
      "outputs": []
    },
    {
      "cell_type": "code",
      "source": [
        "#used by the classification function\n",
        "def encode_and_bind(original_dataframe, feature_to_encode):\n",
        "    dummies = pd.get_dummies(original_dataframe[[feature_to_encode]], dummy_na=True)\n",
        "    res = pd.concat([original_dataframe, dummies], axis=1)\n",
        "    res = res.drop([feature_to_encode], axis=1)\n",
        "    return(res)"
      ],
      "metadata": {
        "id": "-m1JrDD-mgK8"
      },
      "execution_count": 57,
      "outputs": []
    },
    {
      "cell_type": "code",
      "source": [
        "#classification function for Support Vector Machines\n",
        "def classification_SVM(dataset, class_name, metric):\n",
        "  feature_cols = list(dataset.columns)\n",
        "  feature_cols.remove(class_name)\n",
        "\n",
        "  X = dataset[1:][feature_cols] # Features\n",
        "  y = dataset[1:][class_name] # Target variable\n",
        "\n",
        "  numeric_columns=list(X.select_dtypes(include=['int64','float64']).columns)\n",
        "  categorical_columns=list(X.select_dtypes(include=['bool','object']).columns)\n",
        "\n",
        "  for col in X.columns:\n",
        "     if col in categorical_columns:\n",
        "         X = encode_and_bind(X,col)\n",
        "\n",
        "  feature_columns = list(X.columns)\n",
        "\n",
        "  if len(numeric_columns)!=0 and len(categorical_columns)==0:\n",
        "      X = StandardScaler().fit_transform(X)\n",
        "\n",
        "  X = np.nan_to_num(X)\n",
        "  X = pd.DataFrame(X, columns=feature_columns)\n",
        "\n",
        "  clf = SVC(kernel=\"rbf\") \n",
        "\n",
        "\n",
        "  dt_fit = clf.fit(X, y)\n",
        "\n",
        "  cv = ShuffleSplit(n_splits=5, test_size=0.25, random_state=0)\n",
        "  dt_scores = cross_val_score(dt_fit, X, y, cv = cv, scoring=metric)\n",
        "  print(dt_scores.mean())\n",
        "  return dt_scores.mean()"
      ],
      "metadata": {
        "id": "STMby3JaRSoE"
      },
      "execution_count": 58,
      "outputs": []
    },
    {
      "cell_type": "code",
      "source": [
        "#checking the different metrics with SVM\n",
        "best_metric_value = 0\n",
        "for x in m:\n",
        "  print(x)\n",
        "  value = classification_SVM(ds_dirty, target, x)\n",
        "  if value > best_metric_value:\n",
        "    best_metric_value = value\n",
        "\n",
        "print(\"\\nBest value:\", best_metric_value)\n"
      ],
      "metadata": {
        "id": "HvBzATWqwaIk"
      },
      "execution_count": null,
      "outputs": []
    },
    {
      "cell_type": "code",
      "source": [
        "#manually saved the best results (accuracy metric)\n",
        "svm_10_preDet= 0.6984 \n",
        "svm_20_preDet= 0.7\n",
        "svm_30_preDet= 0.7064\n",
        "svm_40_preDet= 0.7\n",
        "svm_50_preDet= 0.7"
      ],
      "metadata": {
        "id": "wJjHyBFQ_IGs"
      },
      "execution_count": 60,
      "outputs": []
    },
    {
      "cell_type": "markdown",
      "source": [
        "## Decision trees"
      ],
      "metadata": {
        "id": "5W5TETOs72t5"
      }
    },
    {
      "cell_type": "code",
      "source": [
        "#classification function for Decision Trees\n",
        "from sklearn.tree import DecisionTreeClassifier\n",
        "def classification_DT(dataset, class_name, metric):\n",
        "  feature_cols = list(dataset.columns)\n",
        "  feature_cols.remove(class_name)\n",
        "\n",
        "  X = dataset[1:][feature_cols] # Features\n",
        "  y = dataset[1:][class_name] # Target variable\n",
        "\n",
        "  numeric_columns=list(X.select_dtypes(include=['int64','float64']).columns)\n",
        "  categorical_columns=list(X.select_dtypes(include=['bool','object']).columns)\n",
        "\n",
        "  for col in X.columns:\n",
        "     if col in categorical_columns:\n",
        "         X = encode_and_bind(X,col)\n",
        "\n",
        "  feature_columns = list(X.columns)\n",
        "\n",
        "  if len(numeric_columns)!=0 and len(categorical_columns)==0:\n",
        "      X = StandardScaler().fit_transform(X)\n",
        "\n",
        "  X = np.nan_to_num(X)\n",
        "  X = pd.DataFrame(X, columns=feature_columns)\n",
        "\n",
        "  clf = DecisionTreeClassifier()\n",
        "\n",
        "\n",
        "  dt_fit = clf.fit(X, y)\n",
        "\n",
        "  cv = ShuffleSplit(n_splits=5, test_size=0.25, random_state=0)\n",
        "  dt_scores = cross_val_score(dt_fit, X, y, cv = cv, scoring=metric)\n",
        "  print(dt_scores.mean())\n",
        "  return dt_scores.mean()"
      ],
      "metadata": {
        "id": "HbUGih2J73m7"
      },
      "execution_count": 61,
      "outputs": []
    },
    {
      "cell_type": "code",
      "source": [
        "#checking the different metrics with SVM\n",
        "best_metric_value = 0\n",
        "for x in m:\n",
        "  print(x)\n",
        "  value = classification_DT(ds_dirty, target, x)\n",
        "  if value > best_metric_value:\n",
        "    best_metric_value = value\n",
        "\n",
        "print(\"\\nBest value:\", best_metric_value)"
      ],
      "metadata": {
        "id": "mMC2SMcA8FCE"
      },
      "execution_count": null,
      "outputs": []
    },
    {
      "cell_type": "code",
      "source": [
        "#manually saved the best results (accuracy metric)\n",
        "dt_10_preDet= 0.6072 \n",
        "dt_20_preDet= 0.6016\n",
        "dt_30_preDet= 0.6064\n",
        "dt_40_preDet= 0.5688000000000001\n",
        "dt_50_preDet= 0.592"
      ],
      "metadata": {
        "id": "PphdZ39V_mdr"
      },
      "execution_count": 63,
      "outputs": []
    },
    {
      "cell_type": "markdown",
      "source": [
        "## 1 standard: Local Outlier Factor (distance based)"
      ],
      "metadata": {
        "id": "6RL98Do3CXz_"
      }
    },
    {
      "cell_type": "code",
      "source": [
        "#thresholds used:\n",
        "#10%outl: LOF_scores < -1.9\n",
        "#20%outl: LOF_scores < -1.4\n",
        "#30%outl: LOF_scores < -1.2\n",
        "#40%outl: LOF_scores < -1.09\n",
        "#50%outl: LOF_scores < -1.07\n",
        "\n",
        "def LOF_outlier_detection(X):\n",
        "    data = X\n",
        "\n",
        "    from sklearn.neighbors import LocalOutlierFactor\n",
        "\n",
        "    # fit the model for outlier detection (default)\n",
        "    clf = LocalOutlierFactor(n_neighbors=4, contamination=0.1)\n",
        "\n",
        "    clf.fit_predict(X)\n",
        "\n",
        "    LOF_scores = clf.negative_outlier_factor_\n",
        "    # Outliers tend to have a negative score far from -1\n",
        "\n",
        "    outliers = X[LOF_scores < -1.09].index\n",
        "\n",
        "    print(\"Outliers: \", data.iloc[outliers])\n",
        "\n",
        "    return data.iloc[outliers]"
      ],
      "metadata": {
        "id": "ojmtp5_Phn3e"
      },
      "execution_count": 64,
      "outputs": []
    },
    {
      "cell_type": "code",
      "source": [
        "outliers_LOF = LOF_outlier_detection(ds_dirty_noCat)"
      ],
      "metadata": {
        "colab": {
          "base_uri": "https://localhost:8080/"
        },
        "id": "9-Rs7Tw5D_kp",
        "outputId": "7b6135b4-7238-4457-fd0e-139174109a17"
      },
      "execution_count": 65,
      "outputs": [
        {
          "output_type": "stream",
          "name": "stdout",
          "text": [
            "Outliers:              Age        Job  Credit_amount    Duration\n",
            "1   -459.352330   2.000000    5951.000000   48.000000\n",
            "6    128.172086  24.675206    2835.000000   24.000000\n",
            "8    478.776392  31.126924 -170229.475866   12.000000\n",
            "10    25.000000   2.000000  -75819.050731   79.871973\n",
            "12    22.000000   2.000000    1567.000000   12.000000\n",
            "..          ...        ...            ...         ...\n",
            "992   23.000000   1.000000 -151141.475920   18.000000\n",
            "993   30.000000   3.000000 -135747.170526   36.000000\n",
            "995  130.533865  31.103506    1736.000000   12.000000\n",
            "998   87.813476 -25.751614  164150.093484 -286.650375\n",
            "999   27.000000   2.000000    4576.000000   45.000000\n",
            "\n",
            "[428 rows x 4 columns]\n"
          ]
        }
      ]
    },
    {
      "cell_type": "code",
      "source": [
        "#creating normalization\n",
        "outliers_fromNorm_LOF = LOF_outlier_detection(ds_dirty_noCat_norm)"
      ],
      "metadata": {
        "colab": {
          "base_uri": "https://localhost:8080/"
        },
        "id": "84eUGEX3pxLe",
        "outputId": "715ac585-a49d-46d9-c2a0-e7eeb7bbb9a3"
      },
      "execution_count": 66,
      "outputs": [
        {
          "output_type": "stream",
          "name": "stdout",
          "text": [
            "Outliers:            Age       Job  Credit_amount  Duration\n",
            "2    0.142828 -2.282465       0.053738  0.022830\n",
            "3    0.031615 -0.011980       0.010403 -0.044259\n",
            "4   -0.048296 -1.406892       0.070614 -2.100899\n",
            "5    0.365340  1.803090      -0.018874 -0.044259\n",
            "7    1.921840  2.319527      -2.508783 -0.088984\n",
            "..        ...       ...            ...       ...\n",
            "989 -0.039417 -0.092026      -0.008372 -1.477848\n",
            "990  1.164705 -1.531140       2.039111 -0.077803\n",
            "994  0.375825  2.317653      -0.034686 -0.088984\n",
            "997  0.186169 -2.233398       2.301993 -1.202089\n",
            "998 -0.083812 -0.011980       0.006174  0.034011\n",
            "\n",
            "[466 rows x 4 columns]\n"
          ]
        }
      ]
    },
    {
      "cell_type": "markdown",
      "source": [
        "## 1 advances: KNN (model based)"
      ],
      "metadata": {
        "id": "p64nR7y4CZPZ"
      }
    },
    {
      "cell_type": "code",
      "source": [
        "X = ds_dirty_noCat.values\n",
        "X"
      ],
      "metadata": {
        "id": "o8N78z4OB8XG"
      },
      "execution_count": null,
      "outputs": []
    },
    {
      "cell_type": "code",
      "source": [
        "#knn outlier detection function\n",
        "\n",
        "from sklearn.neighbors import NearestNeighbors\n",
        "import matplotlib.pyplot as plt\n",
        "def knn_model_distances(values):\n",
        "  # instantiate model\n",
        "  nbrs = NearestNeighbors(n_neighbors = 3)\n",
        "  # fit model\n",
        "  nbrs.fit(values)\n",
        "  # distances and indexes of k-neaighbors from model outputs\n",
        "  distances, indexes = nbrs.kneighbors(values)\n",
        "  # plot mean of k-distances of each observation\n",
        "  plt.plot(distances.mean(axis =1))\n",
        "  return distances"
      ],
      "metadata": {
        "id": "zzcoiaCDBpjJ"
      },
      "execution_count": 68,
      "outputs": []
    },
    {
      "cell_type": "code",
      "source": [
        "knn_model_distances(X)"
      ],
      "metadata": {
        "colab": {
          "base_uri": "https://localhost:8080/"
        },
        "id": "wU_O9T8jyu-g",
        "outputId": "4d7a5c45-e6c3-4b4c-802a-f1c7896a5140"
      },
      "execution_count": 69,
      "outputs": [
        {
          "output_type": "execute_result",
          "data": {
            "text/plain": [
              "array([[   0.        ,   80.45473828,   93.06715512],\n",
              "       [   0.        ,  132.00413704,  260.03615328],\n",
              "       [   0.        ,   28.58115362,   35.53871129],\n",
              "       ...,\n",
              "       [   0.        ,   16.43167673,   24.93992783],\n",
              "       [   0.        ,  589.3862839 , 1124.98580579],\n",
              "       [   0.        ,  103.46980236,  162.11360275]])"
            ]
          },
          "metadata": {},
          "execution_count": 69
        }
      ]
    },
    {
      "cell_type": "code",
      "source": [
        "#normalization version\n",
        "Z = ds_dirty_noCat_norm.values\n",
        "Z"
      ],
      "metadata": {
        "id": "48sg-BIBy6P6"
      },
      "execution_count": null,
      "outputs": []
    },
    {
      "cell_type": "code",
      "source": [
        "knn_model_distances(Z)"
      ],
      "metadata": {
        "colab": {
          "base_uri": "https://localhost:8080/"
        },
        "id": "BGIZXhsozC9B",
        "outputId": "320bd9c1-5061-43ff-be03-8134c1eefff5"
      },
      "execution_count": 71,
      "outputs": [
        {
          "output_type": "execute_result",
          "data": {
            "text/plain": [
              "array([[0.        , 0.09040876, 0.13419547],\n",
              "       [0.        , 0.01506467, 0.02620627],\n",
              "       [0.        , 0.22994608, 0.24826314],\n",
              "       ...,\n",
              "       [0.        , 0.0105812 , 0.01354638],\n",
              "       [0.        , 0.81322856, 1.24489131],\n",
              "       [0.        , 0.01241107, 0.03576736]])"
            ]
          },
          "metadata": {},
          "execution_count": 71
        }
      ]
    },
    {
      "cell_type": "code",
      "source": [
        "# visually determine cutoff values according to the dataset:\n",
        "#10% outliers: 300\n",
        "#20% outliers: 250\n",
        "#30% outliers: 250\n",
        "#40% outliers: 230\n",
        "#50% outliers: 240\n",
        "\n",
        "outlier_index = np.where(knn_model_distances(X).mean(axis = 1) > 240)\n",
        "np.size(outlier_index)"
      ],
      "metadata": {
        "colab": {
          "base_uri": "https://localhost:8080/"
        },
        "id": "7PrvRbfWCFuT",
        "outputId": "a0c50d09-8862-488e-e1f6-05e485e33919"
      },
      "execution_count": 72,
      "outputs": [
        {
          "output_type": "execute_result",
          "data": {
            "text/plain": [
              "401"
            ]
          },
          "metadata": {},
          "execution_count": 72
        }
      ]
    },
    {
      "cell_type": "code",
      "source": [
        "# visually determine cutoff values according to the dataset (normalized):\n",
        "#10% outliers: 0.2\n",
        "#20% outliers: 0.15\n",
        "#30% outliers: 0.2\n",
        "#40% outliers: 0.2\n",
        "#50% outliers: 0.2\n",
        "\n",
        "outlier_index_norm = np.where(knn_model_distances(Z).mean(axis = 1) > 0.2)\n",
        "np.size(outlier_index_norm)"
      ],
      "metadata": {
        "colab": {
          "base_uri": "https://localhost:8080/"
        },
        "id": "LRtFt84wzIh6",
        "outputId": "f73ebc56-87ed-4c9d-c9da-7873cdcb2d9c"
      },
      "execution_count": 73,
      "outputs": [
        {
          "output_type": "execute_result",
          "data": {
            "text/plain": [
              "376"
            ]
          },
          "metadata": {},
          "execution_count": 73
        }
      ]
    },
    {
      "cell_type": "code",
      "source": [
        "# filter outlier values\n",
        "outliers_KNN = ds_dirty_noCat.iloc[outlier_index]\n",
        "outliers_KNN"
      ],
      "metadata": {
        "colab": {
          "base_uri": "https://localhost:8080/",
          "height": 424
        },
        "id": "kQTe5WjlE4dV",
        "outputId": "5964f1b8-171c-4820-e664-cdeb1592e031"
      },
      "execution_count": 74,
      "outputs": [
        {
          "output_type": "execute_result",
          "data": {
            "text/plain": [
              "            Age        Job  Credit_amount    Duration\n",
              "7     35.000000 -26.633562   92427.653312   36.000000\n",
              "8    478.776392  31.126924 -170229.475866   12.000000\n",
              "10    25.000000   2.000000  -75819.050731   79.871973\n",
              "11    24.000000   3.362640   63719.451600  643.989886\n",
              "13     1.080230 -15.549273 -167956.950076   24.000000\n",
              "..          ...        ...            ...         ...\n",
              "991  308.230371 -16.978483  145878.071609   15.000000\n",
              "992   23.000000   1.000000 -151141.475920   18.000000\n",
              "993   30.000000   3.000000 -135747.170526   36.000000\n",
              "996   40.000000   3.000000  141866.551456   30.000000\n",
              "998   87.813476 -25.751614  164150.093484 -286.650375\n",
              "\n",
              "[401 rows x 4 columns]"
            ],
            "text/html": [
              "\n",
              "  <div id=\"df-c8484429-bc29-4d85-b154-4ebde7fe8a09\">\n",
              "    <div class=\"colab-df-container\">\n",
              "      <div>\n",
              "<style scoped>\n",
              "    .dataframe tbody tr th:only-of-type {\n",
              "        vertical-align: middle;\n",
              "    }\n",
              "\n",
              "    .dataframe tbody tr th {\n",
              "        vertical-align: top;\n",
              "    }\n",
              "\n",
              "    .dataframe thead th {\n",
              "        text-align: right;\n",
              "    }\n",
              "</style>\n",
              "<table border=\"1\" class=\"dataframe\">\n",
              "  <thead>\n",
              "    <tr style=\"text-align: right;\">\n",
              "      <th></th>\n",
              "      <th>Age</th>\n",
              "      <th>Job</th>\n",
              "      <th>Credit_amount</th>\n",
              "      <th>Duration</th>\n",
              "    </tr>\n",
              "  </thead>\n",
              "  <tbody>\n",
              "    <tr>\n",
              "      <th>7</th>\n",
              "      <td>35.000000</td>\n",
              "      <td>-26.633562</td>\n",
              "      <td>92427.653312</td>\n",
              "      <td>36.000000</td>\n",
              "    </tr>\n",
              "    <tr>\n",
              "      <th>8</th>\n",
              "      <td>478.776392</td>\n",
              "      <td>31.126924</td>\n",
              "      <td>-170229.475866</td>\n",
              "      <td>12.000000</td>\n",
              "    </tr>\n",
              "    <tr>\n",
              "      <th>10</th>\n",
              "      <td>25.000000</td>\n",
              "      <td>2.000000</td>\n",
              "      <td>-75819.050731</td>\n",
              "      <td>79.871973</td>\n",
              "    </tr>\n",
              "    <tr>\n",
              "      <th>11</th>\n",
              "      <td>24.000000</td>\n",
              "      <td>3.362640</td>\n",
              "      <td>63719.451600</td>\n",
              "      <td>643.989886</td>\n",
              "    </tr>\n",
              "    <tr>\n",
              "      <th>13</th>\n",
              "      <td>1.080230</td>\n",
              "      <td>-15.549273</td>\n",
              "      <td>-167956.950076</td>\n",
              "      <td>24.000000</td>\n",
              "    </tr>\n",
              "    <tr>\n",
              "      <th>...</th>\n",
              "      <td>...</td>\n",
              "      <td>...</td>\n",
              "      <td>...</td>\n",
              "      <td>...</td>\n",
              "    </tr>\n",
              "    <tr>\n",
              "      <th>991</th>\n",
              "      <td>308.230371</td>\n",
              "      <td>-16.978483</td>\n",
              "      <td>145878.071609</td>\n",
              "      <td>15.000000</td>\n",
              "    </tr>\n",
              "    <tr>\n",
              "      <th>992</th>\n",
              "      <td>23.000000</td>\n",
              "      <td>1.000000</td>\n",
              "      <td>-151141.475920</td>\n",
              "      <td>18.000000</td>\n",
              "    </tr>\n",
              "    <tr>\n",
              "      <th>993</th>\n",
              "      <td>30.000000</td>\n",
              "      <td>3.000000</td>\n",
              "      <td>-135747.170526</td>\n",
              "      <td>36.000000</td>\n",
              "    </tr>\n",
              "    <tr>\n",
              "      <th>996</th>\n",
              "      <td>40.000000</td>\n",
              "      <td>3.000000</td>\n",
              "      <td>141866.551456</td>\n",
              "      <td>30.000000</td>\n",
              "    </tr>\n",
              "    <tr>\n",
              "      <th>998</th>\n",
              "      <td>87.813476</td>\n",
              "      <td>-25.751614</td>\n",
              "      <td>164150.093484</td>\n",
              "      <td>-286.650375</td>\n",
              "    </tr>\n",
              "  </tbody>\n",
              "</table>\n",
              "<p>401 rows × 4 columns</p>\n",
              "</div>\n",
              "      <button class=\"colab-df-convert\" onclick=\"convertToInteractive('df-c8484429-bc29-4d85-b154-4ebde7fe8a09')\"\n",
              "              title=\"Convert this dataframe to an interactive table.\"\n",
              "              style=\"display:none;\">\n",
              "        \n",
              "  <svg xmlns=\"http://www.w3.org/2000/svg\" height=\"24px\"viewBox=\"0 0 24 24\"\n",
              "       width=\"24px\">\n",
              "    <path d=\"M0 0h24v24H0V0z\" fill=\"none\"/>\n",
              "    <path d=\"M18.56 5.44l.94 2.06.94-2.06 2.06-.94-2.06-.94-.94-2.06-.94 2.06-2.06.94zm-11 1L8.5 8.5l.94-2.06 2.06-.94-2.06-.94L8.5 2.5l-.94 2.06-2.06.94zm10 10l.94 2.06.94-2.06 2.06-.94-2.06-.94-.94-2.06-.94 2.06-2.06.94z\"/><path d=\"M17.41 7.96l-1.37-1.37c-.4-.4-.92-.59-1.43-.59-.52 0-1.04.2-1.43.59L10.3 9.45l-7.72 7.72c-.78.78-.78 2.05 0 2.83L4 21.41c.39.39.9.59 1.41.59.51 0 1.02-.2 1.41-.59l7.78-7.78 2.81-2.81c.8-.78.8-2.07 0-2.86zM5.41 20L4 18.59l7.72-7.72 1.47 1.35L5.41 20z\"/>\n",
              "  </svg>\n",
              "      </button>\n",
              "      \n",
              "  <style>\n",
              "    .colab-df-container {\n",
              "      display:flex;\n",
              "      flex-wrap:wrap;\n",
              "      gap: 12px;\n",
              "    }\n",
              "\n",
              "    .colab-df-convert {\n",
              "      background-color: #E8F0FE;\n",
              "      border: none;\n",
              "      border-radius: 50%;\n",
              "      cursor: pointer;\n",
              "      display: none;\n",
              "      fill: #1967D2;\n",
              "      height: 32px;\n",
              "      padding: 0 0 0 0;\n",
              "      width: 32px;\n",
              "    }\n",
              "\n",
              "    .colab-df-convert:hover {\n",
              "      background-color: #E2EBFA;\n",
              "      box-shadow: 0px 1px 2px rgba(60, 64, 67, 0.3), 0px 1px 3px 1px rgba(60, 64, 67, 0.15);\n",
              "      fill: #174EA6;\n",
              "    }\n",
              "\n",
              "    [theme=dark] .colab-df-convert {\n",
              "      background-color: #3B4455;\n",
              "      fill: #D2E3FC;\n",
              "    }\n",
              "\n",
              "    [theme=dark] .colab-df-convert:hover {\n",
              "      background-color: #434B5C;\n",
              "      box-shadow: 0px 1px 3px 1px rgba(0, 0, 0, 0.15);\n",
              "      filter: drop-shadow(0px 1px 2px rgba(0, 0, 0, 0.3));\n",
              "      fill: #FFFFFF;\n",
              "    }\n",
              "  </style>\n",
              "\n",
              "      <script>\n",
              "        const buttonEl =\n",
              "          document.querySelector('#df-c8484429-bc29-4d85-b154-4ebde7fe8a09 button.colab-df-convert');\n",
              "        buttonEl.style.display =\n",
              "          google.colab.kernel.accessAllowed ? 'block' : 'none';\n",
              "\n",
              "        async function convertToInteractive(key) {\n",
              "          const element = document.querySelector('#df-c8484429-bc29-4d85-b154-4ebde7fe8a09');\n",
              "          const dataTable =\n",
              "            await google.colab.kernel.invokeFunction('convertToInteractive',\n",
              "                                                     [key], {});\n",
              "          if (!dataTable) return;\n",
              "\n",
              "          const docLinkHtml = 'Like what you see? Visit the ' +\n",
              "            '<a target=\"_blank\" href=https://colab.research.google.com/notebooks/data_table.ipynb>data table notebook</a>'\n",
              "            + ' to learn more about interactive tables.';\n",
              "          element.innerHTML = '';\n",
              "          dataTable['output_type'] = 'display_data';\n",
              "          await google.colab.output.renderOutput(dataTable, element);\n",
              "          const docLink = document.createElement('div');\n",
              "          docLink.innerHTML = docLinkHtml;\n",
              "          element.appendChild(docLink);\n",
              "        }\n",
              "      </script>\n",
              "    </div>\n",
              "  </div>\n",
              "  "
            ]
          },
          "metadata": {},
          "execution_count": 74
        }
      ]
    },
    {
      "cell_type": "code",
      "source": [
        "# filter outlier values (normalized)\n",
        "outliers_fromNorm_KNN = ds_dirty_noCat_norm.iloc[outlier_index_norm]\n",
        "outliers_fromNorm_KNN"
      ],
      "metadata": {
        "colab": {
          "base_uri": "https://localhost:8080/",
          "height": 424
        },
        "id": "k57wdz1Q0uP1",
        "outputId": "ce97a196-7c98-442e-e894-b354b977c390"
      },
      "execution_count": 75,
      "outputs": [
        {
          "output_type": "execute_result",
          "data": {
            "text/plain": [
              "          Age       Job  Credit_amount  Duration\n",
              "4   -0.048296 -1.406892       0.070614 -2.100899\n",
              "6   -0.048296 -2.303995       1.270110  0.000467\n",
              "7    1.921840  2.319527      -2.508783 -0.088984\n",
              "12  -0.198882 -1.416737      -2.476087 -0.044259\n",
              "18  -0.066054  1.491010       1.547248 -0.044259\n",
              "..        ...       ...            ...       ...\n",
              "976 -0.664687 -0.757459      -0.024744  1.867759\n",
              "978 -0.092690  2.212243      -1.354026 -0.077803\n",
              "979  1.238081 -0.011980      -2.657348 -0.021896\n",
              "990  1.164705 -1.531140       2.039111 -0.077803\n",
              "997  0.186169 -2.233398       2.301993 -1.202089\n",
              "\n",
              "[376 rows x 4 columns]"
            ],
            "text/html": [
              "\n",
              "  <div id=\"df-3a78ee54-b94e-4ac5-ae85-e4bc373d6c31\">\n",
              "    <div class=\"colab-df-container\">\n",
              "      <div>\n",
              "<style scoped>\n",
              "    .dataframe tbody tr th:only-of-type {\n",
              "        vertical-align: middle;\n",
              "    }\n",
              "\n",
              "    .dataframe tbody tr th {\n",
              "        vertical-align: top;\n",
              "    }\n",
              "\n",
              "    .dataframe thead th {\n",
              "        text-align: right;\n",
              "    }\n",
              "</style>\n",
              "<table border=\"1\" class=\"dataframe\">\n",
              "  <thead>\n",
              "    <tr style=\"text-align: right;\">\n",
              "      <th></th>\n",
              "      <th>Age</th>\n",
              "      <th>Job</th>\n",
              "      <th>Credit_amount</th>\n",
              "      <th>Duration</th>\n",
              "    </tr>\n",
              "  </thead>\n",
              "  <tbody>\n",
              "    <tr>\n",
              "      <th>4</th>\n",
              "      <td>-0.048296</td>\n",
              "      <td>-1.406892</td>\n",
              "      <td>0.070614</td>\n",
              "      <td>-2.100899</td>\n",
              "    </tr>\n",
              "    <tr>\n",
              "      <th>6</th>\n",
              "      <td>-0.048296</td>\n",
              "      <td>-2.303995</td>\n",
              "      <td>1.270110</td>\n",
              "      <td>0.000467</td>\n",
              "    </tr>\n",
              "    <tr>\n",
              "      <th>7</th>\n",
              "      <td>1.921840</td>\n",
              "      <td>2.319527</td>\n",
              "      <td>-2.508783</td>\n",
              "      <td>-0.088984</td>\n",
              "    </tr>\n",
              "    <tr>\n",
              "      <th>12</th>\n",
              "      <td>-0.198882</td>\n",
              "      <td>-1.416737</td>\n",
              "      <td>-2.476087</td>\n",
              "      <td>-0.044259</td>\n",
              "    </tr>\n",
              "    <tr>\n",
              "      <th>18</th>\n",
              "      <td>-0.066054</td>\n",
              "      <td>1.491010</td>\n",
              "      <td>1.547248</td>\n",
              "      <td>-0.044259</td>\n",
              "    </tr>\n",
              "    <tr>\n",
              "      <th>...</th>\n",
              "      <td>...</td>\n",
              "      <td>...</td>\n",
              "      <td>...</td>\n",
              "      <td>...</td>\n",
              "    </tr>\n",
              "    <tr>\n",
              "      <th>976</th>\n",
              "      <td>-0.664687</td>\n",
              "      <td>-0.757459</td>\n",
              "      <td>-0.024744</td>\n",
              "      <td>1.867759</td>\n",
              "    </tr>\n",
              "    <tr>\n",
              "      <th>978</th>\n",
              "      <td>-0.092690</td>\n",
              "      <td>2.212243</td>\n",
              "      <td>-1.354026</td>\n",
              "      <td>-0.077803</td>\n",
              "    </tr>\n",
              "    <tr>\n",
              "      <th>979</th>\n",
              "      <td>1.238081</td>\n",
              "      <td>-0.011980</td>\n",
              "      <td>-2.657348</td>\n",
              "      <td>-0.021896</td>\n",
              "    </tr>\n",
              "    <tr>\n",
              "      <th>990</th>\n",
              "      <td>1.164705</td>\n",
              "      <td>-1.531140</td>\n",
              "      <td>2.039111</td>\n",
              "      <td>-0.077803</td>\n",
              "    </tr>\n",
              "    <tr>\n",
              "      <th>997</th>\n",
              "      <td>0.186169</td>\n",
              "      <td>-2.233398</td>\n",
              "      <td>2.301993</td>\n",
              "      <td>-1.202089</td>\n",
              "    </tr>\n",
              "  </tbody>\n",
              "</table>\n",
              "<p>376 rows × 4 columns</p>\n",
              "</div>\n",
              "      <button class=\"colab-df-convert\" onclick=\"convertToInteractive('df-3a78ee54-b94e-4ac5-ae85-e4bc373d6c31')\"\n",
              "              title=\"Convert this dataframe to an interactive table.\"\n",
              "              style=\"display:none;\">\n",
              "        \n",
              "  <svg xmlns=\"http://www.w3.org/2000/svg\" height=\"24px\"viewBox=\"0 0 24 24\"\n",
              "       width=\"24px\">\n",
              "    <path d=\"M0 0h24v24H0V0z\" fill=\"none\"/>\n",
              "    <path d=\"M18.56 5.44l.94 2.06.94-2.06 2.06-.94-2.06-.94-.94-2.06-.94 2.06-2.06.94zm-11 1L8.5 8.5l.94-2.06 2.06-.94-2.06-.94L8.5 2.5l-.94 2.06-2.06.94zm10 10l.94 2.06.94-2.06 2.06-.94-2.06-.94-.94-2.06-.94 2.06-2.06.94z\"/><path d=\"M17.41 7.96l-1.37-1.37c-.4-.4-.92-.59-1.43-.59-.52 0-1.04.2-1.43.59L10.3 9.45l-7.72 7.72c-.78.78-.78 2.05 0 2.83L4 21.41c.39.39.9.59 1.41.59.51 0 1.02-.2 1.41-.59l7.78-7.78 2.81-2.81c.8-.78.8-2.07 0-2.86zM5.41 20L4 18.59l7.72-7.72 1.47 1.35L5.41 20z\"/>\n",
              "  </svg>\n",
              "      </button>\n",
              "      \n",
              "  <style>\n",
              "    .colab-df-container {\n",
              "      display:flex;\n",
              "      flex-wrap:wrap;\n",
              "      gap: 12px;\n",
              "    }\n",
              "\n",
              "    .colab-df-convert {\n",
              "      background-color: #E8F0FE;\n",
              "      border: none;\n",
              "      border-radius: 50%;\n",
              "      cursor: pointer;\n",
              "      display: none;\n",
              "      fill: #1967D2;\n",
              "      height: 32px;\n",
              "      padding: 0 0 0 0;\n",
              "      width: 32px;\n",
              "    }\n",
              "\n",
              "    .colab-df-convert:hover {\n",
              "      background-color: #E2EBFA;\n",
              "      box-shadow: 0px 1px 2px rgba(60, 64, 67, 0.3), 0px 1px 3px 1px rgba(60, 64, 67, 0.15);\n",
              "      fill: #174EA6;\n",
              "    }\n",
              "\n",
              "    [theme=dark] .colab-df-convert {\n",
              "      background-color: #3B4455;\n",
              "      fill: #D2E3FC;\n",
              "    }\n",
              "\n",
              "    [theme=dark] .colab-df-convert:hover {\n",
              "      background-color: #434B5C;\n",
              "      box-shadow: 0px 1px 3px 1px rgba(0, 0, 0, 0.15);\n",
              "      filter: drop-shadow(0px 1px 2px rgba(0, 0, 0, 0.3));\n",
              "      fill: #FFFFFF;\n",
              "    }\n",
              "  </style>\n",
              "\n",
              "      <script>\n",
              "        const buttonEl =\n",
              "          document.querySelector('#df-3a78ee54-b94e-4ac5-ae85-e4bc373d6c31 button.colab-df-convert');\n",
              "        buttonEl.style.display =\n",
              "          google.colab.kernel.accessAllowed ? 'block' : 'none';\n",
              "\n",
              "        async function convertToInteractive(key) {\n",
              "          const element = document.querySelector('#df-3a78ee54-b94e-4ac5-ae85-e4bc373d6c31');\n",
              "          const dataTable =\n",
              "            await google.colab.kernel.invokeFunction('convertToInteractive',\n",
              "                                                     [key], {});\n",
              "          if (!dataTable) return;\n",
              "\n",
              "          const docLinkHtml = 'Like what you see? Visit the ' +\n",
              "            '<a target=\"_blank\" href=https://colab.research.google.com/notebooks/data_table.ipynb>data table notebook</a>'\n",
              "            + ' to learn more about interactive tables.';\n",
              "          element.innerHTML = '';\n",
              "          dataTable['output_type'] = 'display_data';\n",
              "          await google.colab.output.renderOutput(dataTable, element);\n",
              "          const docLink = document.createElement('div');\n",
              "          docLink.innerHTML = docLinkHtml;\n",
              "          element.appendChild(docLink);\n",
              "        }\n",
              "      </script>\n",
              "    </div>\n",
              "  </div>\n",
              "  "
            ]
          },
          "metadata": {},
          "execution_count": 75
        }
      ]
    },
    {
      "cell_type": "markdown",
      "source": [
        "## deletion"
      ],
      "metadata": {
        "id": "3O0gTv9AtPPA"
      }
    },
    {
      "cell_type": "code",
      "source": [
        "#outliers detection/correction\n",
        "#dropping the otuliers tuples\n",
        "\n",
        "def outliers_deletion(dataset, outl):\n",
        "  df_noOutliers = dataset.drop(outl.index, axis = 0)\n",
        "  return df_noOutliers"
      ],
      "metadata": {
        "id": "60zJDFx7o6n3"
      },
      "execution_count": 76,
      "outputs": []
    },
    {
      "cell_type": "code",
      "source": [
        "#LOF\n",
        "ds_dirty_noOut_LOF = outliers_deletion(ds_dirty, outliers_LOF)\n",
        "ds_dirty_noOut_LOF\n",
        "#KNN\n",
        "ds_dirty_noOut_KNN = outliers_deletion(ds_dirty, outliers_KNN)\n",
        "ds_dirty_noOut_KNN"
      ],
      "metadata": {
        "colab": {
          "base_uri": "https://localhost:8080/",
          "height": 424
        },
        "id": "XkHKQA3umGWg",
        "outputId": "651e3983-f5db-40a7-e566-63ea1c3feca7"
      },
      "execution_count": 77,
      "outputs": [
        {
          "output_type": "execute_result",
          "data": {
            "text/plain": [
              "            Age     Sex        Job Housing Saving_accounts Checking_account  \\\n",
              "0     67.000000    male   2.000000     own          little           little   \n",
              "1   -459.352330  female   2.000000     own          little         moderate   \n",
              "2     49.000000    male   1.000000     own          little           little   \n",
              "3     78.051035    male -26.364591    free          little           little   \n",
              "4     53.000000    male   2.000000    free          little           little   \n",
              "..          ...     ...        ...     ...             ...              ...   \n",
              "990   37.000000    male   1.000000     own          little           little   \n",
              "994   50.000000    male   2.000000     own          little           little   \n",
              "995  130.533865  female  31.103506     own          little           little   \n",
              "997   38.000000    male   2.000000     own          little           little   \n",
              "999   27.000000    male   2.000000     own        moderate         moderate   \n",
              "\n",
              "     Credit_amount    Duration              Purpose  Risk  \n",
              "0           1169.0  651.798330             radio/TV  good  \n",
              "1           5951.0   48.000000             radio/TV   bad  \n",
              "2           2096.0   12.000000            education  good  \n",
              "3           7882.0   42.000000  furniture/equipment  good  \n",
              "4           4870.0   24.000000                  car   bad  \n",
              "..             ...         ...                  ...   ...  \n",
              "990         3565.0 -360.637595            education  good  \n",
              "994         2390.0 -497.291920                  car  good  \n",
              "995         1736.0   12.000000  furniture/equipment  good  \n",
              "997          804.0   12.000000             radio/TV  good  \n",
              "999         4576.0   45.000000                  car  good  \n",
              "\n",
              "[599 rows x 10 columns]"
            ],
            "text/html": [
              "\n",
              "  <div id=\"df-434cc471-ef13-4eca-b44c-b8520ce5ee5d\">\n",
              "    <div class=\"colab-df-container\">\n",
              "      <div>\n",
              "<style scoped>\n",
              "    .dataframe tbody tr th:only-of-type {\n",
              "        vertical-align: middle;\n",
              "    }\n",
              "\n",
              "    .dataframe tbody tr th {\n",
              "        vertical-align: top;\n",
              "    }\n",
              "\n",
              "    .dataframe thead th {\n",
              "        text-align: right;\n",
              "    }\n",
              "</style>\n",
              "<table border=\"1\" class=\"dataframe\">\n",
              "  <thead>\n",
              "    <tr style=\"text-align: right;\">\n",
              "      <th></th>\n",
              "      <th>Age</th>\n",
              "      <th>Sex</th>\n",
              "      <th>Job</th>\n",
              "      <th>Housing</th>\n",
              "      <th>Saving_accounts</th>\n",
              "      <th>Checking_account</th>\n",
              "      <th>Credit_amount</th>\n",
              "      <th>Duration</th>\n",
              "      <th>Purpose</th>\n",
              "      <th>Risk</th>\n",
              "    </tr>\n",
              "  </thead>\n",
              "  <tbody>\n",
              "    <tr>\n",
              "      <th>0</th>\n",
              "      <td>67.000000</td>\n",
              "      <td>male</td>\n",
              "      <td>2.000000</td>\n",
              "      <td>own</td>\n",
              "      <td>little</td>\n",
              "      <td>little</td>\n",
              "      <td>1169.0</td>\n",
              "      <td>651.798330</td>\n",
              "      <td>radio/TV</td>\n",
              "      <td>good</td>\n",
              "    </tr>\n",
              "    <tr>\n",
              "      <th>1</th>\n",
              "      <td>-459.352330</td>\n",
              "      <td>female</td>\n",
              "      <td>2.000000</td>\n",
              "      <td>own</td>\n",
              "      <td>little</td>\n",
              "      <td>moderate</td>\n",
              "      <td>5951.0</td>\n",
              "      <td>48.000000</td>\n",
              "      <td>radio/TV</td>\n",
              "      <td>bad</td>\n",
              "    </tr>\n",
              "    <tr>\n",
              "      <th>2</th>\n",
              "      <td>49.000000</td>\n",
              "      <td>male</td>\n",
              "      <td>1.000000</td>\n",
              "      <td>own</td>\n",
              "      <td>little</td>\n",
              "      <td>little</td>\n",
              "      <td>2096.0</td>\n",
              "      <td>12.000000</td>\n",
              "      <td>education</td>\n",
              "      <td>good</td>\n",
              "    </tr>\n",
              "    <tr>\n",
              "      <th>3</th>\n",
              "      <td>78.051035</td>\n",
              "      <td>male</td>\n",
              "      <td>-26.364591</td>\n",
              "      <td>free</td>\n",
              "      <td>little</td>\n",
              "      <td>little</td>\n",
              "      <td>7882.0</td>\n",
              "      <td>42.000000</td>\n",
              "      <td>furniture/equipment</td>\n",
              "      <td>good</td>\n",
              "    </tr>\n",
              "    <tr>\n",
              "      <th>4</th>\n",
              "      <td>53.000000</td>\n",
              "      <td>male</td>\n",
              "      <td>2.000000</td>\n",
              "      <td>free</td>\n",
              "      <td>little</td>\n",
              "      <td>little</td>\n",
              "      <td>4870.0</td>\n",
              "      <td>24.000000</td>\n",
              "      <td>car</td>\n",
              "      <td>bad</td>\n",
              "    </tr>\n",
              "    <tr>\n",
              "      <th>...</th>\n",
              "      <td>...</td>\n",
              "      <td>...</td>\n",
              "      <td>...</td>\n",
              "      <td>...</td>\n",
              "      <td>...</td>\n",
              "      <td>...</td>\n",
              "      <td>...</td>\n",
              "      <td>...</td>\n",
              "      <td>...</td>\n",
              "      <td>...</td>\n",
              "    </tr>\n",
              "    <tr>\n",
              "      <th>990</th>\n",
              "      <td>37.000000</td>\n",
              "      <td>male</td>\n",
              "      <td>1.000000</td>\n",
              "      <td>own</td>\n",
              "      <td>little</td>\n",
              "      <td>little</td>\n",
              "      <td>3565.0</td>\n",
              "      <td>-360.637595</td>\n",
              "      <td>education</td>\n",
              "      <td>good</td>\n",
              "    </tr>\n",
              "    <tr>\n",
              "      <th>994</th>\n",
              "      <td>50.000000</td>\n",
              "      <td>male</td>\n",
              "      <td>2.000000</td>\n",
              "      <td>own</td>\n",
              "      <td>little</td>\n",
              "      <td>little</td>\n",
              "      <td>2390.0</td>\n",
              "      <td>-497.291920</td>\n",
              "      <td>car</td>\n",
              "      <td>good</td>\n",
              "    </tr>\n",
              "    <tr>\n",
              "      <th>995</th>\n",
              "      <td>130.533865</td>\n",
              "      <td>female</td>\n",
              "      <td>31.103506</td>\n",
              "      <td>own</td>\n",
              "      <td>little</td>\n",
              "      <td>little</td>\n",
              "      <td>1736.0</td>\n",
              "      <td>12.000000</td>\n",
              "      <td>furniture/equipment</td>\n",
              "      <td>good</td>\n",
              "    </tr>\n",
              "    <tr>\n",
              "      <th>997</th>\n",
              "      <td>38.000000</td>\n",
              "      <td>male</td>\n",
              "      <td>2.000000</td>\n",
              "      <td>own</td>\n",
              "      <td>little</td>\n",
              "      <td>little</td>\n",
              "      <td>804.0</td>\n",
              "      <td>12.000000</td>\n",
              "      <td>radio/TV</td>\n",
              "      <td>good</td>\n",
              "    </tr>\n",
              "    <tr>\n",
              "      <th>999</th>\n",
              "      <td>27.000000</td>\n",
              "      <td>male</td>\n",
              "      <td>2.000000</td>\n",
              "      <td>own</td>\n",
              "      <td>moderate</td>\n",
              "      <td>moderate</td>\n",
              "      <td>4576.0</td>\n",
              "      <td>45.000000</td>\n",
              "      <td>car</td>\n",
              "      <td>good</td>\n",
              "    </tr>\n",
              "  </tbody>\n",
              "</table>\n",
              "<p>599 rows × 10 columns</p>\n",
              "</div>\n",
              "      <button class=\"colab-df-convert\" onclick=\"convertToInteractive('df-434cc471-ef13-4eca-b44c-b8520ce5ee5d')\"\n",
              "              title=\"Convert this dataframe to an interactive table.\"\n",
              "              style=\"display:none;\">\n",
              "        \n",
              "  <svg xmlns=\"http://www.w3.org/2000/svg\" height=\"24px\"viewBox=\"0 0 24 24\"\n",
              "       width=\"24px\">\n",
              "    <path d=\"M0 0h24v24H0V0z\" fill=\"none\"/>\n",
              "    <path d=\"M18.56 5.44l.94 2.06.94-2.06 2.06-.94-2.06-.94-.94-2.06-.94 2.06-2.06.94zm-11 1L8.5 8.5l.94-2.06 2.06-.94-2.06-.94L8.5 2.5l-.94 2.06-2.06.94zm10 10l.94 2.06.94-2.06 2.06-.94-2.06-.94-.94-2.06-.94 2.06-2.06.94z\"/><path d=\"M17.41 7.96l-1.37-1.37c-.4-.4-.92-.59-1.43-.59-.52 0-1.04.2-1.43.59L10.3 9.45l-7.72 7.72c-.78.78-.78 2.05 0 2.83L4 21.41c.39.39.9.59 1.41.59.51 0 1.02-.2 1.41-.59l7.78-7.78 2.81-2.81c.8-.78.8-2.07 0-2.86zM5.41 20L4 18.59l7.72-7.72 1.47 1.35L5.41 20z\"/>\n",
              "  </svg>\n",
              "      </button>\n",
              "      \n",
              "  <style>\n",
              "    .colab-df-container {\n",
              "      display:flex;\n",
              "      flex-wrap:wrap;\n",
              "      gap: 12px;\n",
              "    }\n",
              "\n",
              "    .colab-df-convert {\n",
              "      background-color: #E8F0FE;\n",
              "      border: none;\n",
              "      border-radius: 50%;\n",
              "      cursor: pointer;\n",
              "      display: none;\n",
              "      fill: #1967D2;\n",
              "      height: 32px;\n",
              "      padding: 0 0 0 0;\n",
              "      width: 32px;\n",
              "    }\n",
              "\n",
              "    .colab-df-convert:hover {\n",
              "      background-color: #E2EBFA;\n",
              "      box-shadow: 0px 1px 2px rgba(60, 64, 67, 0.3), 0px 1px 3px 1px rgba(60, 64, 67, 0.15);\n",
              "      fill: #174EA6;\n",
              "    }\n",
              "\n",
              "    [theme=dark] .colab-df-convert {\n",
              "      background-color: #3B4455;\n",
              "      fill: #D2E3FC;\n",
              "    }\n",
              "\n",
              "    [theme=dark] .colab-df-convert:hover {\n",
              "      background-color: #434B5C;\n",
              "      box-shadow: 0px 1px 3px 1px rgba(0, 0, 0, 0.15);\n",
              "      filter: drop-shadow(0px 1px 2px rgba(0, 0, 0, 0.3));\n",
              "      fill: #FFFFFF;\n",
              "    }\n",
              "  </style>\n",
              "\n",
              "      <script>\n",
              "        const buttonEl =\n",
              "          document.querySelector('#df-434cc471-ef13-4eca-b44c-b8520ce5ee5d button.colab-df-convert');\n",
              "        buttonEl.style.display =\n",
              "          google.colab.kernel.accessAllowed ? 'block' : 'none';\n",
              "\n",
              "        async function convertToInteractive(key) {\n",
              "          const element = document.querySelector('#df-434cc471-ef13-4eca-b44c-b8520ce5ee5d');\n",
              "          const dataTable =\n",
              "            await google.colab.kernel.invokeFunction('convertToInteractive',\n",
              "                                                     [key], {});\n",
              "          if (!dataTable) return;\n",
              "\n",
              "          const docLinkHtml = 'Like what you see? Visit the ' +\n",
              "            '<a target=\"_blank\" href=https://colab.research.google.com/notebooks/data_table.ipynb>data table notebook</a>'\n",
              "            + ' to learn more about interactive tables.';\n",
              "          element.innerHTML = '';\n",
              "          dataTable['output_type'] = 'display_data';\n",
              "          await google.colab.output.renderOutput(dataTable, element);\n",
              "          const docLink = document.createElement('div');\n",
              "          docLink.innerHTML = docLinkHtml;\n",
              "          element.appendChild(docLink);\n",
              "        }\n",
              "      </script>\n",
              "    </div>\n",
              "  </div>\n",
              "  "
            ]
          },
          "metadata": {},
          "execution_count": 77
        }
      ]
    },
    {
      "cell_type": "code",
      "source": [
        "#LOF-norm\n",
        "ds_dirty_noOut_fromNorm_LOF = outliers_deletion(ds_dirty, outliers_fromNorm_LOF)\n",
        "ds_dirty_noOut_fromNorm_LOF\n",
        "#KNN-norm\n",
        "ds_dirty_noOut_fromNorm_KNN = outliers_deletion(ds_dirty, outliers_fromNorm_KNN)\n",
        "ds_dirty_noOut_fromNorm_KNN"
      ],
      "metadata": {
        "colab": {
          "base_uri": "https://localhost:8080/",
          "height": 424
        },
        "id": "s4ELOQ3GmiH4",
        "outputId": "f9517ad6-644d-46f1-adf7-e0e1e03b9cdb"
      },
      "execution_count": 78,
      "outputs": [
        {
          "output_type": "execute_result",
          "data": {
            "text/plain": [
              "            Age     Sex        Job Housing Saving_accounts Checking_account  \\\n",
              "0     67.000000    male   2.000000     own          little           little   \n",
              "1   -459.352330  female   2.000000     own          little         moderate   \n",
              "2     49.000000    male   1.000000     own          little           little   \n",
              "3     78.051035    male -26.364591    free          little           little   \n",
              "5     35.000000    male -15.426286    free          little           little   \n",
              "..          ...     ...        ...     ...             ...              ...   \n",
              "994   50.000000    male   2.000000     own          little           little   \n",
              "995  130.533865  female  31.103506     own          little           little   \n",
              "996   40.000000    male   3.000000     own          little           little   \n",
              "998   87.813476    male -25.751614    free          little           little   \n",
              "999   27.000000    male   2.000000     own        moderate         moderate   \n",
              "\n",
              "     Credit_amount    Duration              Purpose  Risk  \n",
              "0      1169.000000  651.798330             radio/TV  good  \n",
              "1      5951.000000   48.000000             radio/TV   bad  \n",
              "2      2096.000000   12.000000            education  good  \n",
              "3      7882.000000   42.000000  furniture/equipment  good  \n",
              "5      9055.000000 -527.804320            education  good  \n",
              "..             ...         ...                  ...   ...  \n",
              "994    2390.000000 -497.291920                  car  good  \n",
              "995    1736.000000   12.000000  furniture/equipment  good  \n",
              "996  141866.551456   30.000000                  car  good  \n",
              "998  164150.093484 -286.650375             radio/TV   bad  \n",
              "999    4576.000000   45.000000                  car  good  \n",
              "\n",
              "[624 rows x 10 columns]"
            ],
            "text/html": [
              "\n",
              "  <div id=\"df-bedcefcd-040e-4858-a221-853cd1ac3e52\">\n",
              "    <div class=\"colab-df-container\">\n",
              "      <div>\n",
              "<style scoped>\n",
              "    .dataframe tbody tr th:only-of-type {\n",
              "        vertical-align: middle;\n",
              "    }\n",
              "\n",
              "    .dataframe tbody tr th {\n",
              "        vertical-align: top;\n",
              "    }\n",
              "\n",
              "    .dataframe thead th {\n",
              "        text-align: right;\n",
              "    }\n",
              "</style>\n",
              "<table border=\"1\" class=\"dataframe\">\n",
              "  <thead>\n",
              "    <tr style=\"text-align: right;\">\n",
              "      <th></th>\n",
              "      <th>Age</th>\n",
              "      <th>Sex</th>\n",
              "      <th>Job</th>\n",
              "      <th>Housing</th>\n",
              "      <th>Saving_accounts</th>\n",
              "      <th>Checking_account</th>\n",
              "      <th>Credit_amount</th>\n",
              "      <th>Duration</th>\n",
              "      <th>Purpose</th>\n",
              "      <th>Risk</th>\n",
              "    </tr>\n",
              "  </thead>\n",
              "  <tbody>\n",
              "    <tr>\n",
              "      <th>0</th>\n",
              "      <td>67.000000</td>\n",
              "      <td>male</td>\n",
              "      <td>2.000000</td>\n",
              "      <td>own</td>\n",
              "      <td>little</td>\n",
              "      <td>little</td>\n",
              "      <td>1169.000000</td>\n",
              "      <td>651.798330</td>\n",
              "      <td>radio/TV</td>\n",
              "      <td>good</td>\n",
              "    </tr>\n",
              "    <tr>\n",
              "      <th>1</th>\n",
              "      <td>-459.352330</td>\n",
              "      <td>female</td>\n",
              "      <td>2.000000</td>\n",
              "      <td>own</td>\n",
              "      <td>little</td>\n",
              "      <td>moderate</td>\n",
              "      <td>5951.000000</td>\n",
              "      <td>48.000000</td>\n",
              "      <td>radio/TV</td>\n",
              "      <td>bad</td>\n",
              "    </tr>\n",
              "    <tr>\n",
              "      <th>2</th>\n",
              "      <td>49.000000</td>\n",
              "      <td>male</td>\n",
              "      <td>1.000000</td>\n",
              "      <td>own</td>\n",
              "      <td>little</td>\n",
              "      <td>little</td>\n",
              "      <td>2096.000000</td>\n",
              "      <td>12.000000</td>\n",
              "      <td>education</td>\n",
              "      <td>good</td>\n",
              "    </tr>\n",
              "    <tr>\n",
              "      <th>3</th>\n",
              "      <td>78.051035</td>\n",
              "      <td>male</td>\n",
              "      <td>-26.364591</td>\n",
              "      <td>free</td>\n",
              "      <td>little</td>\n",
              "      <td>little</td>\n",
              "      <td>7882.000000</td>\n",
              "      <td>42.000000</td>\n",
              "      <td>furniture/equipment</td>\n",
              "      <td>good</td>\n",
              "    </tr>\n",
              "    <tr>\n",
              "      <th>5</th>\n",
              "      <td>35.000000</td>\n",
              "      <td>male</td>\n",
              "      <td>-15.426286</td>\n",
              "      <td>free</td>\n",
              "      <td>little</td>\n",
              "      <td>little</td>\n",
              "      <td>9055.000000</td>\n",
              "      <td>-527.804320</td>\n",
              "      <td>education</td>\n",
              "      <td>good</td>\n",
              "    </tr>\n",
              "    <tr>\n",
              "      <th>...</th>\n",
              "      <td>...</td>\n",
              "      <td>...</td>\n",
              "      <td>...</td>\n",
              "      <td>...</td>\n",
              "      <td>...</td>\n",
              "      <td>...</td>\n",
              "      <td>...</td>\n",
              "      <td>...</td>\n",
              "      <td>...</td>\n",
              "      <td>...</td>\n",
              "    </tr>\n",
              "    <tr>\n",
              "      <th>994</th>\n",
              "      <td>50.000000</td>\n",
              "      <td>male</td>\n",
              "      <td>2.000000</td>\n",
              "      <td>own</td>\n",
              "      <td>little</td>\n",
              "      <td>little</td>\n",
              "      <td>2390.000000</td>\n",
              "      <td>-497.291920</td>\n",
              "      <td>car</td>\n",
              "      <td>good</td>\n",
              "    </tr>\n",
              "    <tr>\n",
              "      <th>995</th>\n",
              "      <td>130.533865</td>\n",
              "      <td>female</td>\n",
              "      <td>31.103506</td>\n",
              "      <td>own</td>\n",
              "      <td>little</td>\n",
              "      <td>little</td>\n",
              "      <td>1736.000000</td>\n",
              "      <td>12.000000</td>\n",
              "      <td>furniture/equipment</td>\n",
              "      <td>good</td>\n",
              "    </tr>\n",
              "    <tr>\n",
              "      <th>996</th>\n",
              "      <td>40.000000</td>\n",
              "      <td>male</td>\n",
              "      <td>3.000000</td>\n",
              "      <td>own</td>\n",
              "      <td>little</td>\n",
              "      <td>little</td>\n",
              "      <td>141866.551456</td>\n",
              "      <td>30.000000</td>\n",
              "      <td>car</td>\n",
              "      <td>good</td>\n",
              "    </tr>\n",
              "    <tr>\n",
              "      <th>998</th>\n",
              "      <td>87.813476</td>\n",
              "      <td>male</td>\n",
              "      <td>-25.751614</td>\n",
              "      <td>free</td>\n",
              "      <td>little</td>\n",
              "      <td>little</td>\n",
              "      <td>164150.093484</td>\n",
              "      <td>-286.650375</td>\n",
              "      <td>radio/TV</td>\n",
              "      <td>bad</td>\n",
              "    </tr>\n",
              "    <tr>\n",
              "      <th>999</th>\n",
              "      <td>27.000000</td>\n",
              "      <td>male</td>\n",
              "      <td>2.000000</td>\n",
              "      <td>own</td>\n",
              "      <td>moderate</td>\n",
              "      <td>moderate</td>\n",
              "      <td>4576.000000</td>\n",
              "      <td>45.000000</td>\n",
              "      <td>car</td>\n",
              "      <td>good</td>\n",
              "    </tr>\n",
              "  </tbody>\n",
              "</table>\n",
              "<p>624 rows × 10 columns</p>\n",
              "</div>\n",
              "      <button class=\"colab-df-convert\" onclick=\"convertToInteractive('df-bedcefcd-040e-4858-a221-853cd1ac3e52')\"\n",
              "              title=\"Convert this dataframe to an interactive table.\"\n",
              "              style=\"display:none;\">\n",
              "        \n",
              "  <svg xmlns=\"http://www.w3.org/2000/svg\" height=\"24px\"viewBox=\"0 0 24 24\"\n",
              "       width=\"24px\">\n",
              "    <path d=\"M0 0h24v24H0V0z\" fill=\"none\"/>\n",
              "    <path d=\"M18.56 5.44l.94 2.06.94-2.06 2.06-.94-2.06-.94-.94-2.06-.94 2.06-2.06.94zm-11 1L8.5 8.5l.94-2.06 2.06-.94-2.06-.94L8.5 2.5l-.94 2.06-2.06.94zm10 10l.94 2.06.94-2.06 2.06-.94-2.06-.94-.94-2.06-.94 2.06-2.06.94z\"/><path d=\"M17.41 7.96l-1.37-1.37c-.4-.4-.92-.59-1.43-.59-.52 0-1.04.2-1.43.59L10.3 9.45l-7.72 7.72c-.78.78-.78 2.05 0 2.83L4 21.41c.39.39.9.59 1.41.59.51 0 1.02-.2 1.41-.59l7.78-7.78 2.81-2.81c.8-.78.8-2.07 0-2.86zM5.41 20L4 18.59l7.72-7.72 1.47 1.35L5.41 20z\"/>\n",
              "  </svg>\n",
              "      </button>\n",
              "      \n",
              "  <style>\n",
              "    .colab-df-container {\n",
              "      display:flex;\n",
              "      flex-wrap:wrap;\n",
              "      gap: 12px;\n",
              "    }\n",
              "\n",
              "    .colab-df-convert {\n",
              "      background-color: #E8F0FE;\n",
              "      border: none;\n",
              "      border-radius: 50%;\n",
              "      cursor: pointer;\n",
              "      display: none;\n",
              "      fill: #1967D2;\n",
              "      height: 32px;\n",
              "      padding: 0 0 0 0;\n",
              "      width: 32px;\n",
              "    }\n",
              "\n",
              "    .colab-df-convert:hover {\n",
              "      background-color: #E2EBFA;\n",
              "      box-shadow: 0px 1px 2px rgba(60, 64, 67, 0.3), 0px 1px 3px 1px rgba(60, 64, 67, 0.15);\n",
              "      fill: #174EA6;\n",
              "    }\n",
              "\n",
              "    [theme=dark] .colab-df-convert {\n",
              "      background-color: #3B4455;\n",
              "      fill: #D2E3FC;\n",
              "    }\n",
              "\n",
              "    [theme=dark] .colab-df-convert:hover {\n",
              "      background-color: #434B5C;\n",
              "      box-shadow: 0px 1px 3px 1px rgba(0, 0, 0, 0.15);\n",
              "      filter: drop-shadow(0px 1px 2px rgba(0, 0, 0, 0.3));\n",
              "      fill: #FFFFFF;\n",
              "    }\n",
              "  </style>\n",
              "\n",
              "      <script>\n",
              "        const buttonEl =\n",
              "          document.querySelector('#df-bedcefcd-040e-4858-a221-853cd1ac3e52 button.colab-df-convert');\n",
              "        buttonEl.style.display =\n",
              "          google.colab.kernel.accessAllowed ? 'block' : 'none';\n",
              "\n",
              "        async function convertToInteractive(key) {\n",
              "          const element = document.querySelector('#df-bedcefcd-040e-4858-a221-853cd1ac3e52');\n",
              "          const dataTable =\n",
              "            await google.colab.kernel.invokeFunction('convertToInteractive',\n",
              "                                                     [key], {});\n",
              "          if (!dataTable) return;\n",
              "\n",
              "          const docLinkHtml = 'Like what you see? Visit the ' +\n",
              "            '<a target=\"_blank\" href=https://colab.research.google.com/notebooks/data_table.ipynb>data table notebook</a>'\n",
              "            + ' to learn more about interactive tables.';\n",
              "          element.innerHTML = '';\n",
              "          dataTable['output_type'] = 'display_data';\n",
              "          await google.colab.output.renderOutput(dataTable, element);\n",
              "          const docLink = document.createElement('div');\n",
              "          docLink.innerHTML = docLinkHtml;\n",
              "          element.appendChild(docLink);\n",
              "        }\n",
              "      </script>\n",
              "    </div>\n",
              "  </div>\n",
              "  "
            ]
          },
          "metadata": {},
          "execution_count": 78
        }
      ]
    },
    {
      "cell_type": "markdown",
      "source": [
        "## correction"
      ],
      "metadata": {
        "id": "lNXu4QV7tUhV"
      }
    },
    {
      "cell_type": "code",
      "source": [
        "def outliers_deletion(dataset, outl):\n",
        "  df_noOutliers = dataset.drop(outl.index, axis = 0)\n",
        "  return df_noOutliers"
      ],
      "metadata": {
        "id": "BC8TzsxWsFEa"
      },
      "execution_count": 79,
      "outputs": []
    },
    {
      "cell_type": "code",
      "source": [
        "#LOF\n",
        "ds_dirty_noOut_LOF = outliers_deletion(ds_dirty, outliers_LOF)\n",
        "ds_dirty_noOut_fromNorm_LOF = outliers_deletion(ds_dirty, outliers_fromNorm_LOF)\n",
        "#KNN\n",
        "ds_dirty_noOut_KNN = outliers_deletion(ds_dirty, outliers_KNN)\n",
        "ds_dirty_noOut_fromNorm_KNN = outliers_deletion(ds_dirty, outliers_fromNorm_KNN)"
      ],
      "metadata": {
        "id": "KhnZzpb8sc1O"
      },
      "execution_count": 80,
      "outputs": []
    },
    {
      "cell_type": "code",
      "source": [
        "def replace(df, columns, values):\n",
        "    for one_column, one_value in zip(columns, values):\n",
        "        df[one_column] = one_value\n",
        "\n",
        "    return df"
      ],
      "metadata": {
        "id": "q_z80jR2Ny0D"
      },
      "execution_count": 81,
      "outputs": []
    },
    {
      "cell_type": "code",
      "source": [
        "#I decided to substitute the outliers with the average corresponding attribute's values\n",
        "def replace_all(outl, dataset):\n",
        "  replace(outl, [\"Age\"], dataset[['Age']].mean())\n",
        "  replace(outl, [\"Job\"], dataset[['Job']].mean())\n",
        "  replace(outl, [\"Credit_amount\"], dataset[['Credit_amount']].mean())\n",
        "  replace(outl, [\"Duration\"], dataset[['Duration']].mean())\n",
        "  return outl"
      ],
      "metadata": {
        "id": "oqad4efxN3Kq"
      },
      "execution_count": 82,
      "outputs": []
    },
    {
      "cell_type": "code",
      "source": [
        "#LOF\n",
        "outliers_LOF_avg = replace_all(outliers_LOF, ds_dirty_noOut_LOF)\n",
        "outliers_fromNorm_LOF_avg = replace_all(outliers_fromNorm_LOF, ds_dirty_noOut_fromNorm_LOF)\n",
        "#KNN\n",
        "outliers_KNN_avg = replace_all(outliers_KNN, ds_dirty_noOut_KNN)\n",
        "outliers_fromNorm_KNN_avg = replace_all(outliers_fromNorm_KNN, ds_dirty_noOut_fromNorm_KNN)"
      ],
      "metadata": {
        "id": "ZjJYC7SHs0kc"
      },
      "execution_count": null,
      "outputs": []
    },
    {
      "cell_type": "code",
      "source": [
        "#concat new values in the ds\n",
        "def concat_df(dataset, outl):\n",
        "  df = dataset.append(outl, ignore_index=True)\n",
        "  return df"
      ],
      "metadata": {
        "id": "dwx8oLrDvs6m"
      },
      "execution_count": 84,
      "outputs": []
    },
    {
      "cell_type": "code",
      "source": [
        "#LOF\n",
        "ds_dirty_outFix_LOF = concat_df(ds_dirty_noOut_LOF, outliers_LOF_avg)\n",
        "ds_dirty_outFix_fromNorm_LOF = concat_df(ds_dirty_noOut_fromNorm_LOF, outliers_fromNorm_LOF_avg)\n",
        "#KNN\n",
        "ds_dirty_outFix_KNN = concat_df(ds_dirty_noOut_KNN, outliers_KNN_avg)\n",
        "ds_dirty_outFix_fromNorm_KNN = concat_df(ds_dirty_noOut_fromNorm_KNN, outliers_fromNorm_KNN_avg)"
      ],
      "metadata": {
        "id": "UZstayJHKpVD"
      },
      "execution_count": 85,
      "outputs": []
    },
    {
      "cell_type": "code",
      "source": [
        "#avoid problem of NaN values\n",
        "def replace_NaN(dataset):\n",
        "  new = dataset.fillna('-')\n",
        "  return new"
      ],
      "metadata": {
        "id": "rNpb-tNdwyrz"
      },
      "execution_count": 86,
      "outputs": []
    },
    {
      "cell_type": "code",
      "source": [
        "#LOF\n",
        "ds_dirty_outFix_LOF_noNan = replace_NaN(ds_dirty_outFix_LOF)\n",
        "ds_dirty_outFix_fromNorm_LOF_noNan = replace_NaN(ds_dirty_outFix_fromNorm_LOF)\n",
        "#KNN\n",
        "ds_dirty_outFix_KNN_noNan = replace_NaN(ds_dirty_outFix_KNN)\n",
        "ds_dirty_outFix_fromNorm_KNN_noNan = replace_NaN(ds_dirty_outFix_fromNorm_KNN)"
      ],
      "metadata": {
        "id": "SzZe84y_Qg42"
      },
      "execution_count": 87,
      "outputs": []
    },
    {
      "cell_type": "markdown",
      "source": [
        "# Computing the 2 algorithms for the classification task on the dataset after the deletion/correction of the outliers\n",
        "\n"
      ],
      "metadata": {
        "id": "4V_CfMGAhoYI"
      }
    },
    {
      "cell_type": "markdown",
      "source": [
        "##SVM"
      ],
      "metadata": {
        "id": "kECFAwgZ4LuL"
      }
    },
    {
      "cell_type": "code",
      "source": [
        "#SVM, outliers deleted\n",
        "classification_SVM(ds_dirty_noOut_LOF, target, \"accuracy\")"
      ],
      "metadata": {
        "id": "3gQtaoAAh3Z-",
        "colab": {
          "base_uri": "https://localhost:8080/"
        },
        "outputId": "e59b2a32-6012-45dc-b2e2-9b0944c4742f"
      },
      "execution_count": 88,
      "outputs": [
        {
          "output_type": "stream",
          "name": "stdout",
          "text": [
            "0.6979020979020978\n"
          ]
        },
        {
          "output_type": "execute_result",
          "data": {
            "text/plain": [
              "0.6979020979020978"
            ]
          },
          "metadata": {},
          "execution_count": 88
        }
      ]
    },
    {
      "cell_type": "code",
      "source": [
        "classification_SVM(ds_dirty_noOut_KNN, target, \"accuracy\")"
      ],
      "metadata": {
        "colab": {
          "base_uri": "https://localhost:8080/"
        },
        "id": "jwSjkrF43KYp",
        "outputId": "cdfd49c3-cef6-4c44-c193-9a7188032cfa"
      },
      "execution_count": 89,
      "outputs": [
        {
          "output_type": "stream",
          "name": "stdout",
          "text": [
            "0.716\n"
          ]
        },
        {
          "output_type": "execute_result",
          "data": {
            "text/plain": [
              "0.716"
            ]
          },
          "metadata": {},
          "execution_count": 89
        }
      ]
    },
    {
      "cell_type": "code",
      "source": [
        "#SVM, outliers deleted (norm)\n",
        "classification_SVM(ds_dirty_noOut_fromNorm_LOF, target, \"accuracy\")"
      ],
      "metadata": {
        "colab": {
          "base_uri": "https://localhost:8080/"
        },
        "id": "WklA0swz3Sc5",
        "outputId": "c4c86c1f-1a12-400d-9189-be2b2a8c20f7"
      },
      "execution_count": 90,
      "outputs": [
        {
          "output_type": "stream",
          "name": "stdout",
          "text": [
            "0.6716417910447762\n"
          ]
        },
        {
          "output_type": "execute_result",
          "data": {
            "text/plain": [
              "0.6716417910447762"
            ]
          },
          "metadata": {},
          "execution_count": 90
        }
      ]
    },
    {
      "cell_type": "code",
      "source": [
        "classification_SVM(ds_dirty_noOut_fromNorm_KNN, target, \"accuracy\")"
      ],
      "metadata": {
        "colab": {
          "base_uri": "https://localhost:8080/"
        },
        "id": "FNbQz9QP3bHk",
        "outputId": "bee413da-6ec3-4be8-d48a-cf12aa294058"
      },
      "execution_count": 91,
      "outputs": [
        {
          "output_type": "stream",
          "name": "stdout",
          "text": [
            "0.6730769230769231\n"
          ]
        },
        {
          "output_type": "execute_result",
          "data": {
            "text/plain": [
              "0.6730769230769231"
            ]
          },
          "metadata": {},
          "execution_count": 91
        }
      ]
    },
    {
      "cell_type": "code",
      "source": [
        "#SVM, outliers corrected with avg\n",
        "classification_SVM(ds_dirty_outFix_LOF_noNan, target, \"accuracy\")"
      ],
      "metadata": {
        "colab": {
          "base_uri": "https://localhost:8080/"
        },
        "id": "hB7m1hOZPyDC",
        "outputId": "b329ecea-8b8c-4b06-c5e7-18c67187631d"
      },
      "execution_count": 92,
      "outputs": [
        {
          "output_type": "stream",
          "name": "stdout",
          "text": [
            "0.6208\n"
          ]
        },
        {
          "output_type": "execute_result",
          "data": {
            "text/plain": [
              "0.6208"
            ]
          },
          "metadata": {},
          "execution_count": 92
        }
      ]
    },
    {
      "cell_type": "code",
      "source": [
        "classification_SVM(ds_dirty_outFix_KNN_noNan, target, \"accuracy\")"
      ],
      "metadata": {
        "colab": {
          "base_uri": "https://localhost:8080/"
        },
        "id": "XZttUuup3ykM",
        "outputId": "28858b8a-4e65-4429-a5d9-b65bd12e02ad"
      },
      "execution_count": 93,
      "outputs": [
        {
          "output_type": "stream",
          "name": "stdout",
          "text": [
            "0.7104\n"
          ]
        },
        {
          "output_type": "execute_result",
          "data": {
            "text/plain": [
              "0.7104"
            ]
          },
          "metadata": {},
          "execution_count": 93
        }
      ]
    },
    {
      "cell_type": "code",
      "source": [
        "#SVM, outliers corrected with avg (norm)\n",
        "classification_SVM(ds_dirty_outFix_fromNorm_LOF_noNan, target, \"accuracy\")"
      ],
      "metadata": {
        "colab": {
          "base_uri": "https://localhost:8080/"
        },
        "id": "cqPtrsik4AY3",
        "outputId": "3b124fc6-30fc-4f65-fc06-ba45e331fb4c"
      },
      "execution_count": 94,
      "outputs": [
        {
          "output_type": "stream",
          "name": "stdout",
          "text": [
            "0.6224\n"
          ]
        },
        {
          "output_type": "execute_result",
          "data": {
            "text/plain": [
              "0.6224"
            ]
          },
          "metadata": {},
          "execution_count": 94
        }
      ]
    },
    {
      "cell_type": "code",
      "source": [
        "classification_SVM(ds_dirty_outFix_fromNorm_KNN_noNan, target, \"accuracy\")"
      ],
      "metadata": {
        "colab": {
          "base_uri": "https://localhost:8080/"
        },
        "id": "DUG8ZRSD4HE7",
        "outputId": "5fd913ec-a832-4a0b-aa68-041e23b468f0"
      },
      "execution_count": 95,
      "outputs": [
        {
          "output_type": "stream",
          "name": "stdout",
          "text": [
            "0.5312\n"
          ]
        },
        {
          "output_type": "execute_result",
          "data": {
            "text/plain": [
              "0.5312"
            ]
          },
          "metadata": {},
          "execution_count": 95
        }
      ]
    },
    {
      "cell_type": "code",
      "source": [
        "#manually saved the best results (accuracy metric)\n",
        "#10%outliers: \n",
        "deleted_LOF_svm_10= 0.7083700440528634\n",
        "deleted_KNN_svm_10= 0.7000000000000001\n",
        "deleted_norm_LOF_svm_10= 0.7054852320675106\n",
        "deleted_norm_KNN_svm_10= 0.6825112107623318\n",
        "corrected_LOF_svm_10=0.6416000000000001\n",
        "corrected_KNN_svm_10= 0.652\n",
        "corrected_norm_LOF_svm_10= 0.6576000000000001\n",
        "corrected_norm_KNN_svm_10= 0.6104\n",
        "#20%outliers:\n",
        "deleted_LOF_svm_20= 0.6911764705882353\n",
        "deleted_KNN_svm_20= 0.7343283582089553\n",
        "deleted_norm_LOF_svm_20= 0.7178217821782178\n",
        "deleted_norm_KNN_svm_20= 0.7074626865671642\n",
        "corrected_LOF_svm_20= 0.6848000000000001\n",
        "corrected_KNN_svm_20= 0.5368\n",
        "corrected_norm_LOF_svm_20= 0.5728000000000001\n",
        "corrected_norm_KNN_svm_20= 0.556\n",
        "#30%outliers:\n",
        "deleted_LOF_svm_30= 0.69\n",
        "deleted_KNN_svm_30= 0.7314606741573033\n",
        "deleted_norm_LOF_svm_30= 0.6904761904761906\n",
        "deleted_norm_KNN_svm_30= 0.7318435754189945\n",
        "corrected_LOF_svm_30= 0.7183999999999999\n",
        "corrected_KNN_svm_30= 0.5072\n",
        "corrected_norm_LOF_svm_30= 0.7112\n",
        "corrected_norm_KNN_svm_30= 0.4784\n",
        "#40%outliers:\n",
        "deleted_LOF_svm_40= 0.7266666666666667\n",
        "deleted_KNN_svm_40= 0.7210884353741497\n",
        "deleted_norm_LOF_svm_40= 0.7089430894308943\n",
        "deleted_norm_KNN_svm_40= 0.7060402684563758\n",
        "corrected_LOF_svm_40= 0.7576\n",
        "corrected_KNN_svm_40= 0.6696\n",
        "corrected_norm_LOF_svm_40= 0.7487999999999999\n",
        "corrected_norm_KNN_svm_40= 0.5544\n",
        "#50%outliers:\n",
        "deleted_LOF_svm_50= 0.6835820895522386\n",
        "deleted_KNN_svm_50= 0.688\n",
        "deleted_norm_LOF_svm_50= 0.6641509433962265\n",
        "deleted_norm_KNN_svm_50= 0.6914728682170542\n",
        "corrected_LOF_svm_50= 0.7152000000000001\n",
        "corrected_KNN_svm_50= 0.7312\n",
        "corrected_norm_LOF_svm_50= 0.7991999999999999\n",
        "corrected_norm_KNN_svm_50= 0.6536000000000001"
      ],
      "metadata": {
        "id": "lNgANfL_c28q"
      },
      "execution_count": 118,
      "outputs": []
    },
    {
      "cell_type": "code",
      "source": [
        "#reating dataframes in order to plot the accuracy values respect the percentage of outliers injected\n",
        "data_svm_LOF_deleted= {'outliers %': [10, 20, 30, 40, 50],'performance': [deleted_LOF_svm_10, deleted_LOF_svm_20, deleted_LOF_svm_30, deleted_LOF_svm_40, deleted_LOF_svm_50]}\n",
        "df_svm_LOF_deleted = pd.DataFrame(data_svm_LOF_deleted)\n",
        "\n",
        "data_svm_KNN_deleted= {'outliers %': [10, 20, 30, 40, 50],'performance': [deleted_KNN_svm_10, deleted_KNN_svm_20, deleted_KNN_svm_30, deleted_KNN_svm_40, deleted_KNN_svm_50]}\n",
        "df_svm_KNN_deleted = pd.DataFrame(data_svm_KNN_deleted)\n",
        "\n",
        "data_svm_LOF_deleted_norm= {'outliers %': [10, 20, 30, 40, 50],'performance': [deleted_norm_LOF_svm_10, deleted_norm_LOF_svm_20, deleted_norm_LOF_svm_30, deleted_norm_LOF_svm_40, deleted_norm_LOF_svm_50]}\n",
        "df_svm_LOF_deleted_norm = pd.DataFrame(data_svm_LOF_deleted_norm)\n",
        "\n",
        "data_svm_KNN_deleted_norm= {'outliers %': [10, 20, 30, 40, 50],'performance': [deleted_norm_KNN_svm_10, deleted_norm_KNN_svm_20, deleted_norm_KNN_svm_30, deleted_norm_KNN_svm_40, deleted_norm_KNN_svm_50]}\n",
        "df_svm_KNN_deleted_norm = pd.DataFrame(data_svm_KNN_deleted_norm)\n",
        "\n",
        "data_svm_LOF_corrected= {'outliers %': [10, 20, 30, 40, 50],'performance': [corrected_LOF_svm_10, corrected_LOF_svm_20, corrected_LOF_svm_30, corrected_LOF_svm_40, corrected_LOF_svm_50]}\n",
        "df_svm_LOF_corrected = pd.DataFrame(data_svm_LOF_corrected)\n",
        "\n",
        "data_svm_KNN_corrected= {'outliers %': [10, 20, 30, 40, 50],'performance': [corrected_KNN_svm_10, corrected_KNN_svm_20, corrected_KNN_svm_30, corrected_KNN_svm_40, corrected_KNN_svm_50]}\n",
        "df_svm_KNN_corrected = pd.DataFrame(data_svm_KNN_corrected)\n",
        "\n",
        "data_svm_LOF_corrected_norm= {'outliers %': [10, 20, 30, 40, 50],'performance': [corrected_norm_LOF_svm_10, corrected_norm_LOF_svm_20, corrected_norm_LOF_svm_30, corrected_norm_LOF_svm_40, corrected_norm_LOF_svm_50]}\n",
        "df_svm_LOF_corrected_norm = pd.DataFrame(data_svm_LOF_corrected_norm)\n",
        "\n",
        "data_svm_KNN_corrected_norm= {'outliers %': [10, 20, 30, 40, 50],'performance': [corrected_norm_KNN_svm_10, corrected_norm_KNN_svm_20, corrected_norm_KNN_svm_30, corrected_norm_KNN_svm_40, corrected_norm_KNN_svm_50]}\n",
        "df_svm_KNN_corrected_norm = pd.DataFrame(data_svm_KNN_corrected_norm)"
      ],
      "metadata": {
        "id": "GEEnrDWqbHXP"
      },
      "execution_count": 119,
      "outputs": []
    },
    {
      "cell_type": "code",
      "source": [
        "#LOF\n",
        "plt.plot(data_svm_LOF_deleted[\"outliers %\"], data_svm_LOF_deleted[\"performance\"], 'r', label='SVM+LOF_del')\n",
        "plt.plot(data_svm_LOF_deleted_norm[\"outliers %\"], data_svm_LOF_deleted_norm[\"performance\"], 'g', label='SVM+LOF_del_norm')\n",
        "plt.plot(data_svm_LOF_corrected[\"outliers %\"], data_svm_LOF_corrected[\"performance\"], 'b', label='SVM+LOF_corr')\n",
        "plt.plot(data_svm_LOF_corrected_norm[\"outliers %\"], data_svm_LOF_corrected_norm[\"performance\"], 'k', label='SVM+LOF_corr_norm')\n",
        "\n",
        "labels = ['10', '20', '30', '40', '50']\n",
        "plt.xticks(data_svm_LOF_deleted[\"outliers %\"], labels)\n",
        "# Create legend.\n",
        "plt.legend(loc='upper left')\n",
        "plt.xlabel('Outliers %')\n",
        "plt.ylabel('Performance')"
      ],
      "metadata": {
        "colab": {
          "base_uri": "https://localhost:8080/",
          "height": 299
        },
        "outputId": "033f342e-009c-4d8c-b6b0-7fd04611af05",
        "id": "2s-Hz5u8kWic"
      },
      "execution_count": null,
      "outputs": [
        {
          "output_type": "execute_result",
          "data": {
            "text/plain": [
              "Text(0, 0.5, 'Performance')"
            ]
          },
          "metadata": {},
          "execution_count": 100
        },
        {
          "output_type": "display_data",
          "data": {
            "text/plain": [
              "<Figure size 432x288 with 1 Axes>"
            ],
            "image/png": "[encoded data removed]"
          },
          "metadata": {}
        }
      ]
    },
    {
      "cell_type": "code",
      "source": [
        "#KNN\n",
        "plt.plot(data_svm_KNN_deleted[\"outliers %\"], data_svm_KNN_deleted[\"performance\"], 'r', label='SVM+KNN_del')\n",
        "plt.plot(data_svm_KNN_deleted_norm[\"outliers %\"], data_svm_KNN_deleted_norm[\"performance\"], 'g', label='SVM+KNN_del_norm')\n",
        "plt.plot(data_svm_KNN_corrected[\"outliers %\"], data_svm_KNN_corrected[\"performance\"], 'b', label='SVM+KNN_corr')\n",
        "plt.plot(data_svm_KNN_corrected_norm[\"outliers %\"], data_svm_KNN_corrected_norm[\"performance\"], 'k', label='SVM+KNN_corr_norm')\n",
        "\n",
        "labels = ['10', '20', '30', '40', '50']\n",
        "plt.xticks(data_svm_KNN_deleted[\"outliers %\"], labels)\n",
        "# Create legend.\n",
        "plt.legend(loc='upper left')\n",
        "plt.xlabel('Outliers %')\n",
        "plt.ylabel('Performance')"
      ],
      "metadata": {
        "colab": {
          "base_uri": "https://localhost:8080/",
          "height": 299
        },
        "outputId": "47a9bb5e-00ba-4c01-9691-b3695c931d2c",
        "id": "4_YKO58RkWig"
      },
      "execution_count": null,
      "outputs": [
        {
          "output_type": "execute_result",
          "data": {
            "text/plain": [
              "Text(0, 0.5, 'Performance')"
            ]
          },
          "metadata": {},
          "execution_count": 101
        },
        {
          "output_type": "display_data",
          "data": {
            "text/plain": [
              "<Figure size 432x288 with 1 Axes>"
            ],
            "image/png": "[encoded data removed]"
          },
          "metadata": {}
        }
      ]
    },
    {
      "cell_type": "code",
      "source": [
        "#LOF vs KNN\n",
        "\n",
        "plt.plot(data_svm_LOF_deleted[\"outliers %\"], data_svm_LOF_deleted[\"performance\"], 'b', label='SVM+LOF_del')\n",
        "plt.plot(data_svm_KNN_deleted[\"outliers %\"], data_svm_KNN_deleted[\"performance\"], 'g', label='SVM+KNN_del')\n",
        "plt.plot(data_svm_LOF_deleted_norm[\"outliers %\"], data_svm_LOF_deleted_norm[\"performance\"], 'r', label='SVM+LOF_del_norm')\n",
        "plt.plot(data_svm_KNN_deleted_norm[\"outliers %\"], data_svm_KNN_deleted_norm[\"performance\"], 'c', label='SVM+KNN_del')\n",
        "plt.plot(data_svm_LOF_corrected[\"outliers %\"], data_svm_LOF_corrected[\"performance\"], 'm', label='SVM+LOF_corr')\n",
        "plt.plot(data_svm_KNN_corrected[\"outliers %\"], data_svm_KNN_corrected[\"performance\"], 'y', label='SVM+KNN_corr')\n",
        "plt.plot(data_svm_LOF_corrected_norm[\"outliers %\"], data_svm_LOF_corrected_norm[\"performance\"], 'k', label='SVM+LOF_corr_norm')\n",
        "plt.plot(data_svm_KNN_corrected_norm[\"outliers %\"], data_svm_KNN_corrected_norm[\"performance\"], 'w', label='SVM+KNN_corr_norm')\n",
        "\n",
        "labels = ['10', '20', '30', '40', '50']\n",
        "plt.xticks(data_svm_LOF_deleted[\"outliers %\"], labels)\n",
        "\n",
        "# Create legend.\n",
        "#plt.legend(loc='upper left')\n",
        "plt.legend(loc='upper center', bbox_to_anchor=(0.5, -0.15), ncol=4)\n",
        "plt.xlabel('Outliers %')\n",
        "plt.ylabel('Performance')"
      ],
      "metadata": {
        "colab": {
          "base_uri": "https://localhost:8080/",
          "height": 338
        },
        "outputId": "cc648e69-0655-42ac-de7c-f6f1b6d07905",
        "id": "UC8wgRpskWii"
      },
      "execution_count": null,
      "outputs": [
        {
          "output_type": "execute_result",
          "data": {
            "text/plain": [
              "Text(0, 0.5, 'Performance')"
            ]
          },
          "metadata": {},
          "execution_count": 110
        },
        {
          "output_type": "display_data",
          "data": {
            "text/plain": [
              "<Figure size 432x288 with 1 Axes>"
            ],
            "image/png": "[encoded data removed]"
          },
          "metadata": {}
        }
      ]
    },
    {
      "cell_type": "code",
      "source": [
        "#creating dataframes in order to plot the accuracy values respect the percentage of outliers injected\n",
        "\n",
        "data_preDet_svm_LOF_deleted= {'outliers %': [10, 20, 30, 40, 50],'performance': [deleted_LOF_svm_10-svm_10_preDet, deleted_LOF_svm_20-svm_20_preDet, deleted_LOF_svm_30-svm_30_preDet, deleted_LOF_svm_40-svm_40_preDet, deleted_LOF_svm_50-svm_50_preDet]}\n",
        "df_svm_LOF_deleted = pd.DataFrame(data_preDet_svm_LOF_deleted)\n",
        "\n",
        "data_preDet_svm_KNN_deleted= {'outliers %': [10, 20, 30, 40, 50],'performance': [deleted_KNN_svm_10-svm_10_preDet, deleted_KNN_svm_20-svm_20_preDet, deleted_KNN_svm_30-svm_30_preDet, deleted_KNN_svm_40-svm_40_preDet, deleted_KNN_svm_50-svm_50_preDet]}\n",
        "df_svm_KNN_deleted = pd.DataFrame(data_preDet_svm_KNN_deleted)\n",
        "\n",
        "data_preDet_svm_LOF_deleted_norm= {'outliers %': [10, 20, 30, 40, 50],'performance': [deleted_norm_LOF_svm_10-svm_10_preDet, deleted_norm_LOF_svm_20-svm_20_preDet, deleted_norm_LOF_svm_30-svm_30_preDet, deleted_norm_LOF_svm_40-svm_40_preDet, deleted_norm_LOF_svm_50-svm_50_preDet]}\n",
        "df_svm_LOF_deleted_norm = pd.DataFrame(data_preDet_svm_LOF_deleted_norm)\n",
        "\n",
        "data_preDet_svm_KNN_deleted_norm= {'outliers %': [10, 20, 30, 40, 50],'performance': [deleted_norm_KNN_svm_10-svm_10_preDet, deleted_norm_KNN_svm_20-svm_20_preDet, deleted_norm_KNN_svm_30-svm_30_preDet, deleted_norm_KNN_svm_40-svm_40_preDet, deleted_norm_KNN_svm_50-svm_50_preDet]}\n",
        "df_svm_KNN_deleted_norm = pd.DataFrame(data_preDet_svm_KNN_deleted_norm)\n",
        "\n",
        "data_preDet_svm_LOF_corrected= {'outliers %': [10, 20, 30, 40, 50],'performance': [corrected_LOF_svm_10-svm_10_preDet, corrected_LOF_svm_20-svm_20_preDet, corrected_LOF_svm_30-svm_30_preDet, corrected_LOF_svm_40-svm_40_preDet, corrected_LOF_svm_50-svm_50_preDet]}\n",
        "df_svm_LOF_corrected = pd.DataFrame(data_preDet_svm_LOF_corrected)\n",
        "\n",
        "data_preDet_svm_KNN_corrected= {'outliers %': [10, 20, 30, 40, 50],'performance': [corrected_KNN_svm_10-svm_10_preDet, corrected_KNN_svm_20-svm_20_preDet, corrected_KNN_svm_30-svm_30_preDet, corrected_KNN_svm_40-svm_40_preDet, corrected_KNN_svm_50-svm_50_preDet]}\n",
        "df_svm_KNN_corrected = pd.DataFrame(data_preDet_svm_KNN_corrected)\n",
        "\n",
        "data_preDet_svm_LOF_corrected_norm= {'outliers %': [10, 20, 30, 40, 50],'performance': [corrected_norm_LOF_svm_10-svm_10_preDet, corrected_norm_LOF_svm_20-svm_20_preDet, corrected_norm_LOF_svm_30-svm_30_preDet, corrected_norm_LOF_svm_40-svm_40_preDet, corrected_norm_LOF_svm_50-svm_50_preDet]}\n",
        "df_svm_LOF_corrected_norm = pd.DataFrame(data_preDet_svm_LOF_corrected_norm)\n",
        "\n",
        "data_preDet_svm_KNN_corrected_norm= {'outliers %': [10, 20, 30, 40, 50],'performance': [corrected_norm_KNN_svm_10-svm_10_preDet, corrected_norm_KNN_svm_20-svm_20_preDet, corrected_norm_KNN_svm_30-svm_30_preDet, corrected_norm_KNN_svm_40-svm_40_preDet, corrected_norm_KNN_svm_50-svm_50_preDet]}\n",
        "df_svm_KNN_corrected_norm = pd.DataFrame(data_preDet_svm_KNN_corrected_norm)"
      ],
      "metadata": {
        "id": "Hiy7DKY1kWil"
      },
      "execution_count": null,
      "outputs": []
    },
    {
      "cell_type": "code",
      "source": [
        "#LOF vs KNN (compared to performance before outliers detection)\n",
        "\n",
        "plt.plot(data_preDet_svm_LOF_deleted[\"outliers %\"], data_preDet_svm_LOF_deleted[\"performance\"], 'b', label='SVM+LOF_del')\n",
        "plt.plot(data_preDet_svm_KNN_deleted[\"outliers %\"], data_preDet_svm_KNN_deleted[\"performance\"], 'g', label='SVM+KNN_del')\n",
        "plt.plot(data_preDet_svm_LOF_deleted_norm[\"outliers %\"], data_preDet_svm_LOF_deleted_norm[\"performance\"], 'r', label='SVM+LOF_del_norm')\n",
        "plt.plot(data_preDet_svm_KNN_deleted_norm[\"outliers %\"], data_preDet_svm_KNN_deleted_norm[\"performance\"], 'c', label='SVM+KNN_del')\n",
        "plt.plot(data_preDet_svm_LOF_corrected[\"outliers %\"], data_preDet_svm_LOF_corrected[\"performance\"], 'm', label='SVM+LOF_corr')\n",
        "plt.plot(data_preDet_svm_KNN_corrected[\"outliers %\"], data_preDet_svm_KNN_corrected[\"performance\"], 'y', label='SVM+KNN_corr')\n",
        "plt.plot(data_preDet_svm_LOF_corrected_norm[\"outliers %\"], data_preDet_svm_LOF_corrected_norm[\"performance\"], 'k', label='SVM+LOF_corr_norm')\n",
        "plt.plot(data_preDet_svm_KNN_corrected_norm[\"outliers %\"], data_preDet_svm_KNN_corrected_norm[\"performance\"], 'w', label='SVM+KNN_corr_norm')\n",
        "\n",
        "labels = ['10', '20', '30', '40', '50']\n",
        "plt.xticks(data_preDet_svm_LOF_deleted[\"outliers %\"], labels)\n",
        "\n",
        "# Create legend.\n",
        "#plt.legend(loc='upper left')\n",
        "plt.legend(loc='upper center', bbox_to_anchor=(0.5, -0.15), ncol=4)\n",
        "plt.xlabel('Outliers %')\n",
        "plt.ylabel('Performance')"
      ],
      "metadata": {
        "colab": {
          "base_uri": "https://localhost:8080/",
          "height": 338
        },
        "outputId": "11086652-c60c-48fa-92c7-81e86379cadf",
        "id": "VnRktLU1kWim"
      },
      "execution_count": null,
      "outputs": [
        {
          "output_type": "execute_result",
          "data": {
            "text/plain": [
              "Text(0, 0.5, 'Performance')"
            ]
          },
          "metadata": {},
          "execution_count": 142
        },
        {
          "output_type": "display_data",
          "data": {
            "text/plain": [
              "<Figure size 432x288 with 1 Axes>"
            ],
            "image/png": "[encoded data removed]"
          },
          "metadata": {}
        }
      ]
    },
    {
      "cell_type": "markdown",
      "source": [
        "##Decision trees"
      ],
      "metadata": {
        "id": "DtArMjdi4PFy"
      }
    },
    {
      "cell_type": "code",
      "source": [
        "#DT, outliers deleted\n",
        "classification_DT(ds_dirty_noOut_LOF, target, \"accuracy\")"
      ],
      "metadata": {
        "colab": {
          "base_uri": "https://localhost:8080/"
        },
        "outputId": "22e6e05b-2d54-4746-a547-dffd3bcc39c1",
        "id": "pSdBkbFgAR8k"
      },
      "execution_count": 103,
      "outputs": [
        {
          "output_type": "stream",
          "name": "stdout",
          "text": [
            "0.6167832167832168\n"
          ]
        },
        {
          "output_type": "execute_result",
          "data": {
            "text/plain": [
              "0.6167832167832168"
            ]
          },
          "metadata": {},
          "execution_count": 103
        }
      ]
    },
    {
      "cell_type": "code",
      "source": [
        "classification_DT(ds_dirty_noOut_KNN, target, \"accuracy\")"
      ],
      "metadata": {
        "colab": {
          "base_uri": "https://localhost:8080/"
        },
        "outputId": "0932d18c-1e21-4112-fa5b-720a5444555c",
        "id": "qSMGtApfAR8o"
      },
      "execution_count": 104,
      "outputs": [
        {
          "output_type": "stream",
          "name": "stdout",
          "text": [
            "0.5933333333333334\n"
          ]
        },
        {
          "output_type": "execute_result",
          "data": {
            "text/plain": [
              "0.5933333333333334"
            ]
          },
          "metadata": {},
          "execution_count": 104
        }
      ]
    },
    {
      "cell_type": "code",
      "source": [
        "#DT, outliers deleted (norm)\n",
        "classification_DT(ds_dirty_noOut_fromNorm_LOF, target, \"accuracy\")"
      ],
      "metadata": {
        "colab": {
          "base_uri": "https://localhost:8080/"
        },
        "outputId": "4252c888-cafd-4f6a-80b1-648b1a56db31",
        "id": "DfFxs7lEAR8r"
      },
      "execution_count": 105,
      "outputs": [
        {
          "output_type": "stream",
          "name": "stdout",
          "text": [
            "0.5895522388059702\n"
          ]
        },
        {
          "output_type": "execute_result",
          "data": {
            "text/plain": [
              "0.5895522388059702"
            ]
          },
          "metadata": {},
          "execution_count": 105
        }
      ]
    },
    {
      "cell_type": "code",
      "source": [
        "classification_DT(ds_dirty_noOut_fromNorm_KNN, target, \"accuracy\")"
      ],
      "metadata": {
        "colab": {
          "base_uri": "https://localhost:8080/"
        },
        "outputId": "923ac64e-1a4b-4002-fae7-d635e74d598f",
        "id": "3w00ghZ4AR8u"
      },
      "execution_count": 106,
      "outputs": [
        {
          "output_type": "stream",
          "name": "stdout",
          "text": [
            "0.5923076923076923\n"
          ]
        },
        {
          "output_type": "execute_result",
          "data": {
            "text/plain": [
              "0.5923076923076923"
            ]
          },
          "metadata": {},
          "execution_count": 106
        }
      ]
    },
    {
      "cell_type": "code",
      "source": [
        "#DT, outliers corrected with avg\n",
        "classification_DT(ds_dirty_outFix_LOF_noNan, target, \"accuracy\")"
      ],
      "metadata": {
        "colab": {
          "base_uri": "https://localhost:8080/"
        },
        "outputId": "6309068f-7240-4def-8fa1-0285032365f6",
        "id": "tTRN7RT4AR8x"
      },
      "execution_count": 107,
      "outputs": [
        {
          "output_type": "stream",
          "name": "stdout",
          "text": [
            "0.7632\n"
          ]
        },
        {
          "output_type": "execute_result",
          "data": {
            "text/plain": [
              "0.7632"
            ]
          },
          "metadata": {},
          "execution_count": 107
        }
      ]
    },
    {
      "cell_type": "code",
      "source": [
        "classification_DT(ds_dirty_outFix_KNN_noNan, target, \"accuracy\")"
      ],
      "metadata": {
        "colab": {
          "base_uri": "https://localhost:8080/"
        },
        "outputId": "9e8f1723-95c0-4742-fc07-7d35dfe310c7",
        "id": "NWNH4c2qAR81"
      },
      "execution_count": 108,
      "outputs": [
        {
          "output_type": "stream",
          "name": "stdout",
          "text": [
            "0.7520000000000001\n"
          ]
        },
        {
          "output_type": "execute_result",
          "data": {
            "text/plain": [
              "0.7520000000000001"
            ]
          },
          "metadata": {},
          "execution_count": 108
        }
      ]
    },
    {
      "cell_type": "code",
      "source": [
        "#DT, outliers corrected with avg (norm)\n",
        "classification_DT(ds_dirty_outFix_fromNorm_LOF_noNan, target, \"accuracy\")"
      ],
      "metadata": {
        "colab": {
          "base_uri": "https://localhost:8080/"
        },
        "outputId": "87f18866-bb09-4503-ee58-0708b040cce2",
        "id": "Mc5DKHZVAR85"
      },
      "execution_count": 109,
      "outputs": [
        {
          "output_type": "stream",
          "name": "stdout",
          "text": [
            "0.7832000000000001\n"
          ]
        },
        {
          "output_type": "execute_result",
          "data": {
            "text/plain": [
              "0.7832000000000001"
            ]
          },
          "metadata": {},
          "execution_count": 109
        }
      ]
    },
    {
      "cell_type": "code",
      "source": [
        "classification_DT(ds_dirty_outFix_fromNorm_KNN_noNan, target, \"accuracy\")"
      ],
      "metadata": {
        "colab": {
          "base_uri": "https://localhost:8080/"
        },
        "outputId": "fe97e889-5b63-4a3a-c141-0c38b84a0dbd",
        "id": "4i28qwXbAR88"
      },
      "execution_count": 110,
      "outputs": [
        {
          "output_type": "stream",
          "name": "stdout",
          "text": [
            "0.7224\n"
          ]
        },
        {
          "output_type": "execute_result",
          "data": {
            "text/plain": [
              "0.7224"
            ]
          },
          "metadata": {},
          "execution_count": 110
        }
      ]
    },
    {
      "cell_type": "code",
      "source": [
        "#manually saved best results (accuracy metric)\n",
        "#10%outliers: \n",
        "deleted_LOF_dt_10= 0.5876651982378855\n",
        "deleted_KNN_dt_10= 0.6017543859649123\n",
        "deleted_norm_LOF_dt_10= 0.5856540084388187\n",
        "deleted_norm_KNN_dt_10= 0.6026905829596412\n",
        "corrected_LOF_dt_10=0.64\n",
        "corrected_KNN_dt_10= 0.6288\n",
        "corrected_norm_LOF_dt_10= 0.6264000000000001\n",
        "corrected_norm_KNN_dt_10= 0.6392\n",
        "#20%outliers:\n",
        "deleted_LOF_dt_20= 0.6107843137254901\n",
        "deleted_KNN_dt_20= 0.6427860696517413\n",
        "deleted_norm_LOF_dt_20= 0.5980198019801981\n",
        "deleted_norm_KNN_dt_20= 0.6129353233830845\n",
        "corrected_LOF_dt_20= 0.7071999999999999\n",
        "corrected_KNN_dt_20= 0.7032\n",
        "corrected_norm_LOF_dt_20= 0.6791999999999999\n",
        "corrected_norm_KNN_dt_20= 0.6952\n",
        "#30%outliers:\n",
        "deleted_LOF_dt_30= 0.5844444444444444\n",
        "deleted_KNN_dt_30= 0.6179775280898877\n",
        "deleted_norm_LOF_dt_30= 0.5940476190476192\n",
        "deleted_norm_KNN_dt_30= 0.5966480446927374\n",
        "corrected_LOF_dt_30= 0.7016\n",
        "corrected_KNN_dt_30= 0.7288\n",
        "corrected_norm_LOF_dt_30= 0.7152000000000001\n",
        "corrected_norm_KNN_dt_30= 0.7103999999999999\n",
        "#40%outliers:\n",
        "deleted_LOF_dt_40= 0.6226666666666667\n",
        "deleted_KNN_dt_40= 0.6190476190476192\n",
        "deleted_norm_LOF_dt_40= 0.6048780487804878\n",
        "deleted_norm_KNN_dt_40= 0.5382550335570471\n",
        "corrected_LOF_dt_40= 0.78\n",
        "corrected_KNN_dt_40= 0.7712\n",
        "corrected_norm_LOF_dt_40= 0.7975999999999999\n",
        "corrected_norm_KNN_dt_40= 0.7607999999999999\n",
        "#50%outliers:\n",
        "deleted_LOF_dt_50= 0.5746268656716417\n",
        "deleted_KNN_dt_50= 0.6288\n",
        "deleted_norm_LOF_dt_50= 0.5641509433962264\n",
        "deleted_norm_KNN_dt_50= 0.6155038759689923\n",
        "corrected_LOF_dt_50= 0.776\n",
        "corrected_KNN_dt_50= 0.8056000000000001\n",
        "corrected_norm_LOF_dt_50= 0.8295999999999999\n",
        "corrected_norm_KNN_dt_50= 0.7895999999999999"
      ],
      "metadata": {
        "id": "w8mXMTGednTx"
      },
      "execution_count": 111,
      "outputs": []
    },
    {
      "cell_type": "code",
      "source": [
        "#creating dataframes in order to plot the accuracy values respect the percentage of outliers injected\n",
        "data_dt_LOF_deleted= {'outliers %': [10, 20, 30, 40, 50],'performance': [deleted_LOF_dt_10, deleted_LOF_dt_20, deleted_LOF_dt_30, deleted_LOF_dt_40, deleted_LOF_dt_50]}\n",
        "df_dt_LOF_deleted = pd.DataFrame(data_dt_LOF_deleted)\n",
        "\n",
        "data_dt_KNN_deleted= {'outliers %': [10, 20, 30, 40, 50],'performance': [deleted_KNN_dt_10, deleted_KNN_dt_20, deleted_KNN_dt_30, deleted_KNN_dt_40, deleted_KNN_dt_50]}\n",
        "df_dt_KNN_deleted = pd.DataFrame(data_dt_KNN_deleted)\n",
        "\n",
        "data_dt_LOF_deleted_norm= {'outliers %': [10, 20, 30, 40, 50],'performance': [deleted_norm_LOF_dt_10, deleted_norm_LOF_dt_20, deleted_norm_LOF_dt_30, deleted_norm_LOF_dt_40, deleted_norm_LOF_dt_50]}\n",
        "df_dt_LOF_deleted_norm = pd.DataFrame(data_dt_LOF_deleted_norm)\n",
        "\n",
        "data_dt_KNN_deleted_norm= {'outliers %': [10, 20, 30, 40, 50],'performance': [deleted_norm_KNN_dt_10, deleted_norm_KNN_dt_20, deleted_norm_KNN_dt_30, deleted_norm_KNN_dt_40, deleted_norm_KNN_dt_50]}\n",
        "df_dt_KNN_deleted_norm = pd.DataFrame(data_dt_KNN_deleted_norm)\n",
        "\n",
        "data_dt_LOF_corrected= {'outliers %': [10, 20, 30, 40, 50],'performance': [corrected_LOF_dt_10, corrected_LOF_dt_20, corrected_LOF_dt_30, corrected_LOF_dt_40, corrected_LOF_dt_50]}\n",
        "df_dt_LOF_corrected = pd.DataFrame(data_dt_LOF_corrected)\n",
        "\n",
        "data_dt_KNN_corrected= {'outliers %': [10, 20, 30, 40, 50],'performance': [corrected_KNN_dt_10, corrected_KNN_dt_20, corrected_KNN_dt_30, corrected_KNN_dt_40, corrected_KNN_dt_50]}\n",
        "df_dt_KNN_corrected = pd.DataFrame(data_dt_KNN_corrected)\n",
        "\n",
        "data_dt_LOF_corrected_norm= {'outliers %': [10, 20, 30, 40, 50],'performance': [corrected_norm_LOF_dt_10, corrected_norm_LOF_dt_20, corrected_norm_LOF_dt_30, corrected_norm_LOF_dt_40, corrected_norm_LOF_dt_50]}\n",
        "df_dt_LOF_corrected_norm = pd.DataFrame(data_dt_LOF_corrected_norm)\n",
        "\n",
        "data_dt_KNN_corrected_norm= {'outliers %': [10, 20, 30, 40, 50],'performance': [corrected_norm_KNN_dt_10, corrected_norm_KNN_dt_20, corrected_norm_KNN_dt_30, corrected_norm_KNN_dt_40, corrected_norm_KNN_dt_50]}\n",
        "df_dt_KNN_corrected_norm = pd.DataFrame(data_dt_KNN_corrected_norm)"
      ],
      "metadata": {
        "id": "6VJjX-GZ3nuz"
      },
      "execution_count": 112,
      "outputs": []
    },
    {
      "cell_type": "code",
      "source": [
        "#LOF\n",
        "plt.plot(data_dt_LOF_deleted[\"outliers %\"], data_dt_LOF_deleted[\"performance\"], 'r', label='dt+LOF_del')\n",
        "plt.plot(data_dt_LOF_deleted_norm[\"outliers %\"], data_dt_LOF_deleted_norm[\"performance\"], 'g', label='dt+LOF_del_norm')\n",
        "plt.plot(data_dt_LOF_corrected[\"outliers %\"], data_dt_LOF_corrected[\"performance\"], 'b', label='dt+LOF_corr')\n",
        "plt.plot(data_dt_LOF_corrected_norm[\"outliers %\"], data_dt_LOF_corrected_norm[\"performance\"], 'k', label='dt+LOF_corr_norm')\n",
        "\n",
        "labels = ['10', '20', '30', '40', '50']\n",
        "plt.xticks(data_dt_LOF_deleted[\"outliers %\"], labels)\n",
        "# Create legend.\n",
        "plt.legend(loc='upper left')\n",
        "plt.xlabel('Outliers %')\n",
        "plt.ylabel('Performance')"
      ],
      "metadata": {
        "colab": {
          "base_uri": "https://localhost:8080/",
          "height": 299
        },
        "outputId": "8a6ef27d-4599-412a-e816-d9cf8505afaf",
        "id": "Mkk6NS-7ki2I"
      },
      "execution_count": null,
      "outputs": [
        {
          "output_type": "execute_result",
          "data": {
            "text/plain": [
              "Text(0, 0.5, 'Performance')"
            ]
          },
          "metadata": {},
          "execution_count": 122
        },
        {
          "output_type": "display_data",
          "data": {
            "text/plain": [
              "<Figure size 432x288 with 1 Axes>"
            ],
            "image/png": "[encoded data removed]"
          },
          "metadata": {}
        }
      ]
    },
    {
      "cell_type": "code",
      "source": [
        "#KNN\n",
        "plt.plot(data_dt_KNN_deleted[\"outliers %\"], data_dt_KNN_deleted[\"performance\"], 'r', label='dt+KNN_del')\n",
        "plt.plot(data_dt_KNN_deleted_norm[\"outliers %\"], data_dt_KNN_deleted_norm[\"performance\"], 'g', label='dt+KNN_del_norm')\n",
        "plt.plot(data_dt_KNN_corrected[\"outliers %\"], data_dt_KNN_corrected[\"performance\"], 'b', label='dt+KNN_corr')\n",
        "plt.plot(data_dt_KNN_corrected_norm[\"outliers %\"], data_dt_KNN_corrected_norm[\"performance\"], 'k', label='dt+KNN_corr_norm')\n",
        "\n",
        "labels = ['10', '20', '30', '40', '50']\n",
        "plt.xticks(data_dt_KNN_deleted[\"outliers %\"], labels)\n",
        "# Create legend.\n",
        "plt.legend(loc='upper left')\n",
        "plt.xlabel('Outliers %')\n",
        "plt.ylabel('Performance')"
      ],
      "metadata": {
        "colab": {
          "base_uri": "https://localhost:8080/",
          "height": 299
        },
        "outputId": "efbd1107-00d2-4d11-c171-ee0a3cab8664",
        "id": "NO2Zw-M4ki2N"
      },
      "execution_count": null,
      "outputs": [
        {
          "output_type": "execute_result",
          "data": {
            "text/plain": [
              "Text(0, 0.5, 'Performance')"
            ]
          },
          "metadata": {},
          "execution_count": 123
        },
        {
          "output_type": "display_data",
          "data": {
            "text/plain": [
              "<Figure size 432x288 with 1 Axes>"
            ],
            "image/png": "[encoded data removed]"
          },
          "metadata": {}
        }
      ]
    },
    {
      "cell_type": "code",
      "source": [
        "#LOF vs KNN\n",
        "\n",
        "plt.plot(data_dt_LOF_deleted[\"outliers %\"], data_dt_LOF_deleted[\"performance\"], 'b', label='dt+LOF_del')\n",
        "plt.plot(data_dt_KNN_deleted[\"outliers %\"], data_dt_KNN_deleted[\"performance\"], 'g', label='dt+KNN_del')\n",
        "plt.plot(data_dt_LOF_deleted_norm[\"outliers %\"], data_dt_LOF_deleted_norm[\"performance\"], 'r', label='dt+LOF_del_norm')\n",
        "plt.plot(data_dt_KNN_deleted_norm[\"outliers %\"], data_dt_KNN_deleted_norm[\"performance\"], 'c', label='dt+KNN_del')\n",
        "plt.plot(data_dt_LOF_corrected[\"outliers %\"], data_dt_LOF_corrected[\"performance\"], 'm', label='dt+LOF_corr')\n",
        "plt.plot(data_dt_KNN_corrected[\"outliers %\"], data_dt_KNN_corrected[\"performance\"], 'y', label='dt+KNN_corr')\n",
        "plt.plot(data_dt_LOF_corrected_norm[\"outliers %\"], data_dt_LOF_corrected_norm[\"performance\"], 'k', label='dt+LOF_corr_norm')\n",
        "plt.plot(data_dt_KNN_corrected_norm[\"outliers %\"], data_dt_KNN_corrected_norm[\"performance\"], 'w', label='dt+KNN_corr_norm')\n",
        "\n",
        "labels = ['10', '20', '30', '40', '50']\n",
        "plt.xticks(data_dt_LOF_deleted[\"outliers %\"], labels)\n",
        "\n",
        "# Create legend.\n",
        "#plt.legend(loc='upper left')\n",
        "plt.legend(loc='upper center', bbox_to_anchor=(0.5, -0.15), ncol=4)\n",
        "plt.xlabel('Outliers %')\n",
        "plt.ylabel('Performance')"
      ],
      "metadata": {
        "colab": {
          "base_uri": "https://localhost:8080/",
          "height": 338
        },
        "outputId": "ba3e2475-a320-42ed-abfc-6469e4a64dd7",
        "id": "m1d8LO9qki2Q"
      },
      "execution_count": null,
      "outputs": [
        {
          "output_type": "execute_result",
          "data": {
            "text/plain": [
              "Text(0, 0.5, 'Performance')"
            ]
          },
          "metadata": {},
          "execution_count": 124
        },
        {
          "output_type": "display_data",
          "data": {
            "text/plain": [
              "<Figure size 432x288 with 1 Axes>"
            ],
            "image/png": "[encoded data removed]"
          },
          "metadata": {}
        }
      ]
    },
    {
      "cell_type": "code",
      "source": [
        "#before outlier deletion/correction\n",
        "data_preDet_dt_LOF_deleted= {'outliers %': [10, 20, 30, 40, 50],'performance': [deleted_LOF_dt_10-dt_10_preDet, deleted_LOF_dt_20-dt_20_preDet, deleted_LOF_dt_30-dt_30_preDet, deleted_LOF_dt_40-dt_40_preDet, deleted_LOF_dt_50-dt_50_preDet]}\n",
        "df_dt_LOF_deleted = pd.DataFrame(data_preDet_dt_LOF_deleted)\n",
        "\n",
        "data_preDet_dt_KNN_deleted= {'outliers %': [10, 20, 30, 40, 50],'performance': [deleted_KNN_dt_10-dt_10_preDet, deleted_KNN_dt_20-dt_20_preDet, deleted_KNN_dt_30-dt_30_preDet, deleted_KNN_dt_40-dt_40_preDet, deleted_KNN_dt_50-dt_50_preDet]}\n",
        "df_dt_KNN_deleted = pd.DataFrame(data_preDet_dt_KNN_deleted)\n",
        "\n",
        "data_preDet_dt_LOF_deleted_norm= {'outliers %': [10, 20, 30, 40, 50],'performance': [deleted_norm_LOF_dt_10-dt_10_preDet, deleted_norm_LOF_dt_20-dt_20_preDet, deleted_norm_LOF_dt_30-dt_30_preDet, deleted_norm_LOF_dt_40-dt_40_preDet, deleted_norm_LOF_dt_50-dt_50_preDet]}\n",
        "df_dt_LOF_deleted_norm = pd.DataFrame(data_preDet_dt_LOF_deleted_norm)\n",
        "\n",
        "data_preDet_dt_KNN_deleted_norm= {'outliers %': [10, 20, 30, 40, 50],'performance': [deleted_norm_KNN_dt_10-dt_10_preDet, deleted_norm_KNN_dt_20-dt_20_preDet, deleted_norm_KNN_dt_30-dt_30_preDet, deleted_norm_KNN_dt_40-dt_40_preDet, deleted_norm_KNN_dt_50-dt_50_preDet]}\n",
        "df_dt_KNN_deleted_norm = pd.DataFrame(data_preDet_dt_KNN_deleted_norm)\n",
        "\n",
        "data_preDet_dt_LOF_corrected= {'outliers %': [10, 20, 30, 40, 50],'performance': [corrected_LOF_dt_10-dt_10_preDet, corrected_LOF_dt_20-dt_20_preDet, corrected_LOF_dt_30-dt_30_preDet, corrected_LOF_dt_40-dt_40_preDet, corrected_LOF_dt_50-dt_50_preDet]}\n",
        "df_dt_LOF_corrected = pd.DataFrame(data_preDet_dt_LOF_corrected)\n",
        "\n",
        "data_preDet_dt_KNN_corrected= {'outliers %': [10, 20, 30, 40, 50],'performance': [corrected_KNN_dt_10-dt_10_preDet, corrected_KNN_dt_20-dt_20_preDet, corrected_KNN_dt_30-dt_30_preDet, corrected_KNN_dt_40-dt_40_preDet, corrected_KNN_dt_50-dt_50_preDet]}\n",
        "df_dt_KNN_corrected = pd.DataFrame(data_preDet_dt_KNN_corrected)\n",
        "\n",
        "data_preDet_dt_LOF_corrected_norm= {'outliers %': [10, 20, 30, 40, 50],'performance': [corrected_norm_LOF_dt_10-dt_10_preDet, corrected_norm_LOF_dt_20-dt_20_preDet, corrected_norm_LOF_dt_30-dt_30_preDet, corrected_norm_LOF_dt_40-dt_40_preDet, corrected_norm_LOF_dt_50-dt_50_preDet]}\n",
        "df_dt_LOF_corrected_norm = pd.DataFrame(data_preDet_dt_LOF_corrected_norm)\n",
        "\n",
        "data_preDet_dt_KNN_corrected_norm= {'outliers %': [10, 20, 30, 40, 50],'performance': [corrected_norm_KNN_dt_10-dt_10_preDet, corrected_norm_KNN_dt_20-dt_20_preDet, corrected_norm_KNN_dt_30-dt_30_preDet, corrected_norm_KNN_dt_40-dt_40_preDet, corrected_norm_KNN_dt_50-dt_50_preDet]}\n",
        "df_dt_KNN_corrected_norm = pd.DataFrame(data_preDet_dt_KNN_corrected_norm)"
      ],
      "metadata": {
        "id": "hC9qhr5gki2S"
      },
      "execution_count": null,
      "outputs": []
    },
    {
      "cell_type": "code",
      "source": [
        "#LOF vs KNN (compared to performance before outliers detection)\n",
        "\n",
        "plt.plot(data_preDet_dt_LOF_deleted[\"outliers %\"], data_preDet_dt_LOF_deleted[\"performance\"], 'b', label='dt+LOF_del')\n",
        "plt.plot(data_preDet_dt_KNN_deleted[\"outliers %\"], data_preDet_dt_KNN_deleted[\"performance\"], 'g', label='dt+KNN_del')\n",
        "plt.plot(data_preDet_dt_LOF_deleted_norm[\"outliers %\"], data_preDet_dt_LOF_deleted_norm[\"performance\"], 'r', label='dt+LOF_del_norm')\n",
        "plt.plot(data_preDet_dt_KNN_deleted_norm[\"outliers %\"], data_preDet_dt_KNN_deleted_norm[\"performance\"], 'c', label='dt+KNN_del')\n",
        "plt.plot(data_preDet_dt_LOF_corrected[\"outliers %\"], data_preDet_dt_LOF_corrected[\"performance\"], 'm', label='dt+LOF_corr')\n",
        "plt.plot(data_preDet_dt_KNN_corrected[\"outliers %\"], data_preDet_dt_KNN_corrected[\"performance\"], 'y', label='dt+KNN_corr')\n",
        "plt.plot(data_preDet_dt_LOF_corrected_norm[\"outliers %\"], data_preDet_dt_LOF_corrected_norm[\"performance\"], 'k', label='dt+LOF_corr_norm')\n",
        "plt.plot(data_preDet_dt_KNN_corrected_norm[\"outliers %\"], data_preDet_dt_KNN_corrected_norm[\"performance\"], 'w', label='dt+KNN_corr_norm')\n",
        "\n",
        "labels = ['10', '20', '30', '40', '50']\n",
        "plt.xticks(data_preDet_dt_LOF_deleted[\"outliers %\"], labels)\n",
        "\n",
        "# Create legend.\n",
        "#plt.legend(loc='upper left')\n",
        "plt.legend(loc='upper center', bbox_to_anchor=(0.5, -0.15), ncol=4)\n",
        "plt.xlabel('Outliers %')\n",
        "plt.ylabel('Performance')"
      ],
      "metadata": {
        "colab": {
          "base_uri": "https://localhost:8080/",
          "height": 341
        },
        "outputId": "def1a5df-f864-471e-9253-433442572198",
        "id": "E64ku1E0ki2V"
      },
      "execution_count": null,
      "outputs": [
        {
          "output_type": "execute_result",
          "data": {
            "text/plain": [
              "Text(0, 0.5, 'Performance')"
            ]
          },
          "metadata": {},
          "execution_count": 146
        },
        {
          "output_type": "display_data",
          "data": {
            "text/plain": [
              "<Figure size 432x288 with 1 Axes>"
            ],
            "image/png": "[encoded data removed]"
          },
          "metadata": {}
        }
      ]
    }
  ]
}